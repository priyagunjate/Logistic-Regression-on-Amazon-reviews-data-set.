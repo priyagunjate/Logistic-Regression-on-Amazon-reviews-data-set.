{
 "cells": [
  {
   "cell_type": "markdown",
   "metadata": {},
   "source": [
    "## Assignment 5: Apply Logistic regression to Amazon reviews dataset.\n"
   ]
  },
  {
   "cell_type": "markdown",
   "metadata": {},
   "source": [
    "Given Dataset consists of reviews of fine foods from amazon. Reviews describe (1)product and user information, (2)ratings, and (3) a plain text review.Here, Logistic Regression algorithm is applied on amazon reviews datasets to predict whether a review is positive or negative.\n",
    "\n",
    "Procedure to execute the above task is as follows:\n",
    "\n",
    "* **Step1: Data Pre-processing is applied on given amazon reviews data-set.And Take sample of data from dataset because of computational limitations**\n",
    "\n",
    "\n",
    "* **Step2: Time based splitting on train and test datasets.**\n",
    "\n",
    "\n",
    "* **Step3: Apply  Feature generation techniques(Bow,tfidf,avg w2v,tfidfw2v)** \n",
    "  \n",
    "  \n",
    "* **Step4: Apply Logistic Regression algorithm using each technique.**\n",
    "\n",
    "\n",
    "* **Step5: To find lambda using gridsearch cross-validation and random cross-validation**\n",
    "\n",
    "\n",
    "* **Step5: L1 and L2 regularization**\n",
    "\n",
    "\n",
    "* **Step6: L1 Regularization- Increase lambda hyperparameter to generate sparcity in dataset.**\n",
    "          1. Report Performance metric\n",
    "          2. Report Error\n",
    "          3. Report Sparcity in \"W*\"\n",
    "          \n",
    "* **Step6: Feature Importance for postive and Negative reviews**\n",
    "           1. Most Important Feature\n",
    "           2. Bar plot of top 15 Important Features.\n",
    "\n",
    "         \n",
    "\n",
    "## Objective:\n",
    "\n",
    "* To classify given reviews (positive (Rating of 4 or 5) & negative (rating of 1 or 2)) using Logistic regression algorithm.\n",
    "\n",
    "\n",
    "\n",
    "\n",
    "\n"
   ]
  },
  {
   "cell_type": "code",
   "execution_count": 1,
   "metadata": {
    "scrolled": true
   },
   "outputs": [
    {
     "name": "stderr",
     "output_type": "stream",
     "text": [
      "/usr/local/lib/python3.6/site-packages/sklearn/cross_validation.py:41: DeprecationWarning: This module was deprecated in version 0.18 in favor of the model_selection module into which all the refactored classes and functions are moved. Also note that the interface of the new CV iterators are different from that of this module. This module will be removed in 0.20.\n",
      "  \"This module will be removed in 0.20.\", DeprecationWarning)\n"
     ]
    }
   ],
   "source": [
    "# All necessary module\n",
    "%matplotlib inline\n",
    "import warnings\n",
    "warnings.filterwarnings(\"ignore\")\n",
    "#import  sys\n",
    "import re\n",
    "import math\n",
    "import sqlite3\n",
    "import pandas as pd\n",
    "import numpy as np\n",
    "import pickle\n",
    "\n",
    "from sklearn.model_selection import TimeSeriesSplit\n",
    "from sklearn.model_selection import cross_val_score\n",
    "from sklearn.model_selection import GridSearchCV\n",
    "\n",
    "import pytablewriter\n",
    "\n",
    "from sklearn.linear_model import LogisticRegression\n",
    "from scipy.stats import uniform\n",
    "from sklearn.model_selection import RandomizedSearchCV\n",
    "\n",
    "# modules for text processing\n",
    "import nltk\n",
    "import string\n",
    "from nltk.corpus import stopwords\n",
    "from nltk.stem import PorterStemmer\n",
    "from nltk.stem.wordnet import WordNetLemmatizer\n",
    "import matplotlib.pyplot as plt\n",
    "import seaborn as sns\n",
    "from sklearn.feature_extraction.text import TfidfTransformer\n",
    "from sklearn.feature_extraction.text import TfidfVectorizer\n",
    "\n",
    "from sklearn.feature_extraction.text import CountVectorizer\n",
    "from sklearn.metrics import confusion_matrix\n",
    "from sklearn import metrics\n",
    "from sklearn.metrics import f1_score\n",
    "from sklearn.metrics import recall_score\n",
    "from sklearn.metrics import precision_score\n",
    "\n",
    "#import scikitplot.metrics as skplt\n",
    "from sklearn.metrics import classification_report,confusion_matrix,accuracy_score\n",
    "\n",
    "from sklearn.metrics import roc_curve, auc\n",
    "from nltk.stem.porter import PorterStemmer\n",
    "\n",
    "\n",
    "# knn modules\n",
    "# train-split data,accuracy-score,cross-validation modules\n",
    "from sklearn.cross_validation import train_test_split\n",
    "from sklearn.neighbors import KNeighborsClassifier\n",
    "from sklearn.metrics import accuracy_score\n",
    "\n",
    "from collections import Counter\n",
    "from sklearn.metrics import accuracy_score\n",
    "from sklearn import cross_validation\n",
    "from sklearn.preprocessing import StandardScaler"
   ]
  },
  {
   "cell_type": "code",
   "execution_count": 2,
   "metadata": {},
   "outputs": [],
   "source": [
    "import zipfile\n",
    "archive = zipfile.ZipFile('/floyd/input/pri/Reviews.zip', 'r')\n",
    "csvfile = archive.open('Reviews.csv')"
   ]
  },
  {
   "cell_type": "code",
   "execution_count": 3,
   "metadata": {},
   "outputs": [
    {
     "name": "stdout",
     "output_type": "stream",
     "text": [
      "   Id   ProductId          UserId                      ProfileName  \\\n",
      "0   1  B001E4KFG0  A3SGXH7AUHU8GW                       delmartian   \n",
      "1   2  B00813GRG4  A1D87F6ZCVE5NK                           dll pa   \n",
      "2   3  B000LQOCH0   ABXLMWJIXXAIN  Natalia Corres \"Natalia Corres\"   \n",
      "3   4  B000UA0QIQ  A395BORC6FGVXV                             Karl   \n",
      "4   5  B006K2ZZ7K  A1UQRSCLF8GW1T    Michael D. Bigham \"M. Wassir\"   \n",
      "\n",
      "   HelpfulnessNumerator  HelpfulnessDenominator  Score        Time  \\\n",
      "0                     1                       1      5  1303862400   \n",
      "1                     0                       0      1  1346976000   \n",
      "2                     1                       1      4  1219017600   \n",
      "3                     3                       3      2  1307923200   \n",
      "4                     0                       0      5  1350777600   \n",
      "\n",
      "                 Summary                                               Text  \n",
      "0  Good Quality Dog Food  I have bought several of the Vitality canned d...  \n",
      "1      Not as Advertised  Product arrived labeled as Jumbo Salted Peanut...  \n",
      "2  \"Delight\" says it all  This is a confection that has been around a fe...  \n",
      "3         Cough Medicine  If you are looking for the secret ingredient i...  \n",
      "4            Great taffy  Great taffy at a great price.  There was a wid...  \n"
     ]
    }
   ],
   "source": [
    "# Reading CSV file and printing first five rows \n",
    "amz = pd.read_csv(csvfile ) # reviews.csv is  dataset file\n",
    "print(amz.head())"
   ]
  },
  {
   "cell_type": "code",
   "execution_count": 4,
   "metadata": {},
   "outputs": [
    {
     "name": "stdout",
     "output_type": "stream",
     "text": [
      "(568454, 10)\n",
      "Index(['Id', 'ProductId', 'UserId', 'ProfileName', 'HelpfulnessNumerator',\n",
      "       'HelpfulnessDenominator', 'Score', 'Time', 'Summary', 'Text'],\n",
      "      dtype='object')\n"
     ]
    }
   ],
   "source": [
    "# dimensions of dataset and columns name\n",
    "\n",
    "print(amz.shape) \n",
    "#print(amz1.shape)\n",
    "print(amz.columns)"
   ]
  },
  {
   "cell_type": "markdown",
   "metadata": {},
   "source": [
    "The amazon reviews datafile contains 568454 rows of entry and 10 columns.For given objective, processing of data is necessary.\"Score\" and \"text\" columns is processed for required result."
   ]
  },
  {
   "cell_type": "markdown",
   "metadata": {},
   "source": [
    "##### Given reviews with Score>3 a positive rating, and reviews with a score<3 a negative rating. If score is equal to 3,it is considered as neutral score."
   ]
  },
  {
   "cell_type": "code",
   "execution_count": 5,
   "metadata": {},
   "outputs": [],
   "source": [
    "# Processing\n",
    "#Give reviews with Score>3 a positive rating, and reviews with a score<3 a negative rating.\n",
    "\n",
    "def score_part(x):\n",
    "    if x < 3:\n",
    "        return 'negative'\n",
    "    return 'positive'\n",
    "\n",
    "actualScore = amz['Score']\n",
    "#print(actualScore)\n",
    "New_score = actualScore.map(score_part)\n",
    "#print(New_score)\n",
    "amz['Score']=New_score\n",
    "\n",
    "# If score is equal to 3,it is considered as neutral score.\n",
    "\n",
    "    \n",
    "\n",
    "\n",
    "\n",
    "\n"
   ]
  },
  {
   "cell_type": "code",
   "execution_count": 6,
   "metadata": {},
   "outputs": [
    {
     "name": "stdout",
     "output_type": "stream",
     "text": [
      "(568454, 10)\n"
     ]
    },
    {
     "data": {
      "text/html": [
       "<div>\n",
       "<style scoped>\n",
       "    .dataframe tbody tr th:only-of-type {\n",
       "        vertical-align: middle;\n",
       "    }\n",
       "\n",
       "    .dataframe tbody tr th {\n",
       "        vertical-align: top;\n",
       "    }\n",
       "\n",
       "    .dataframe thead th {\n",
       "        text-align: right;\n",
       "    }\n",
       "</style>\n",
       "<table border=\"1\" class=\"dataframe\">\n",
       "  <thead>\n",
       "    <tr style=\"text-align: right;\">\n",
       "      <th></th>\n",
       "      <th>Id</th>\n",
       "      <th>ProductId</th>\n",
       "      <th>UserId</th>\n",
       "      <th>ProfileName</th>\n",
       "      <th>HelpfulnessNumerator</th>\n",
       "      <th>HelpfulnessDenominator</th>\n",
       "      <th>Score</th>\n",
       "      <th>Time</th>\n",
       "      <th>Summary</th>\n",
       "      <th>Text</th>\n",
       "    </tr>\n",
       "  </thead>\n",
       "  <tbody>\n",
       "    <tr>\n",
       "      <th>0</th>\n",
       "      <td>1</td>\n",
       "      <td>B001E4KFG0</td>\n",
       "      <td>A3SGXH7AUHU8GW</td>\n",
       "      <td>delmartian</td>\n",
       "      <td>1</td>\n",
       "      <td>1</td>\n",
       "      <td>positive</td>\n",
       "      <td>1303862400</td>\n",
       "      <td>Good Quality Dog Food</td>\n",
       "      <td>I have bought several of the Vitality canned d...</td>\n",
       "    </tr>\n",
       "    <tr>\n",
       "      <th>1</th>\n",
       "      <td>2</td>\n",
       "      <td>B00813GRG4</td>\n",
       "      <td>A1D87F6ZCVE5NK</td>\n",
       "      <td>dll pa</td>\n",
       "      <td>0</td>\n",
       "      <td>0</td>\n",
       "      <td>negative</td>\n",
       "      <td>1346976000</td>\n",
       "      <td>Not as Advertised</td>\n",
       "      <td>Product arrived labeled as Jumbo Salted Peanut...</td>\n",
       "    </tr>\n",
       "    <tr>\n",
       "      <th>2</th>\n",
       "      <td>3</td>\n",
       "      <td>B000LQOCH0</td>\n",
       "      <td>ABXLMWJIXXAIN</td>\n",
       "      <td>Natalia Corres \"Natalia Corres\"</td>\n",
       "      <td>1</td>\n",
       "      <td>1</td>\n",
       "      <td>positive</td>\n",
       "      <td>1219017600</td>\n",
       "      <td>\"Delight\" says it all</td>\n",
       "      <td>This is a confection that has been around a fe...</td>\n",
       "    </tr>\n",
       "    <tr>\n",
       "      <th>3</th>\n",
       "      <td>4</td>\n",
       "      <td>B000UA0QIQ</td>\n",
       "      <td>A395BORC6FGVXV</td>\n",
       "      <td>Karl</td>\n",
       "      <td>3</td>\n",
       "      <td>3</td>\n",
       "      <td>negative</td>\n",
       "      <td>1307923200</td>\n",
       "      <td>Cough Medicine</td>\n",
       "      <td>If you are looking for the secret ingredient i...</td>\n",
       "    </tr>\n",
       "    <tr>\n",
       "      <th>4</th>\n",
       "      <td>5</td>\n",
       "      <td>B006K2ZZ7K</td>\n",
       "      <td>A1UQRSCLF8GW1T</td>\n",
       "      <td>Michael D. Bigham \"M. Wassir\"</td>\n",
       "      <td>0</td>\n",
       "      <td>0</td>\n",
       "      <td>positive</td>\n",
       "      <td>1350777600</td>\n",
       "      <td>Great taffy</td>\n",
       "      <td>Great taffy at a great price.  There was a wid...</td>\n",
       "    </tr>\n",
       "  </tbody>\n",
       "</table>\n",
       "</div>"
      ],
      "text/plain": [
       "   Id   ProductId          UserId                      ProfileName  \\\n",
       "0   1  B001E4KFG0  A3SGXH7AUHU8GW                       delmartian   \n",
       "1   2  B00813GRG4  A1D87F6ZCVE5NK                           dll pa   \n",
       "2   3  B000LQOCH0   ABXLMWJIXXAIN  Natalia Corres \"Natalia Corres\"   \n",
       "3   4  B000UA0QIQ  A395BORC6FGVXV                             Karl   \n",
       "4   5  B006K2ZZ7K  A1UQRSCLF8GW1T    Michael D. Bigham \"M. Wassir\"   \n",
       "\n",
       "   HelpfulnessNumerator  HelpfulnessDenominator     Score        Time  \\\n",
       "0                     1                       1  positive  1303862400   \n",
       "1                     0                       0  negative  1346976000   \n",
       "2                     1                       1  positive  1219017600   \n",
       "3                     3                       3  negative  1307923200   \n",
       "4                     0                       0  positive  1350777600   \n",
       "\n",
       "                 Summary                                               Text  \n",
       "0  Good Quality Dog Food  I have bought several of the Vitality canned d...  \n",
       "1      Not as Advertised  Product arrived labeled as Jumbo Salted Peanut...  \n",
       "2  \"Delight\" says it all  This is a confection that has been around a fe...  \n",
       "3         Cough Medicine  If you are looking for the secret ingredient i...  \n",
       "4            Great taffy  Great taffy at a great price.  There was a wid...  "
      ]
     },
     "execution_count": 6,
     "metadata": {},
     "output_type": "execute_result"
    }
   ],
   "source": [
    "print(amz.shape)\n",
    "amz.head(5)\n"
   ]
  },
  {
   "cell_type": "markdown",
   "metadata": {},
   "source": [
    "#### Data Pre-processing on raw data:\n",
    "\n",
    "Every datasets contains some unwanted data.Raw data is preprocessed by removing duplication.\n"
   ]
  },
  {
   "cell_type": "code",
   "execution_count": 7,
   "metadata": {},
   "outputs": [
    {
     "name": "stdout",
     "output_type": "stream",
     "text": [
      "            Id   ProductId          UserId  \\\n",
      "171222  171223  7310172001   AJD41FBJD9010   \n",
      "171153  171154  7310172001   AJD41FBJD9010   \n",
      "171151  171152  7310172001   AJD41FBJD9010   \n",
      "217443  217444  7310172101  A22FICU3LCG2J1   \n",
      "217444  217445  7310172101  A1LQV0PSM04DWI   \n",
      "\n",
      "                                         ProfileName  HelpfulnessNumerator  \\\n",
      "171222  N. Ferguson \"Two, Daisy, Hannah, and Kitten\"                     1   \n",
      "171153  N. Ferguson \"Two, Daisy, Hannah, and Kitten\"                     0   \n",
      "171151  N. Ferguson \"Two, Daisy, Hannah, and Kitten\"                     0   \n",
      "217443                                      C. Knapp                     1   \n",
      "217444                                 B. Feuerstein                     1   \n",
      "\n",
      "        HelpfulnessDenominator     Score        Time  \\\n",
      "171222                       1  positive  1233360000   \n",
      "171153                       0  positive  1233360000   \n",
      "171151                       0  positive  1233360000   \n",
      "217443                       1  positive  1275523200   \n",
      "217444                       1  positive  1274313600   \n",
      "\n",
      "                                                  Summary  \\\n",
      "171222  best dog treat-- great for training---  all do...   \n",
      "171153  best dog treat-- great for training---  all do...   \n",
      "171151  dogs LOVE it--  best treat for rewards and tra...   \n",
      "217443                                Can't resist this !   \n",
      "217444                   Freeze dried liver as dog treats   \n",
      "\n",
      "                                                     Text  \n",
      "171222  Freeze dried liver has a hypnotic effect on do...  \n",
      "171153  Freeze dried liver has a hypnotic effect on do...  \n",
      "171151  Freeze dried liver has a hypnotic effect on do...  \n",
      "217443  My dog can't resist these treats - I can get h...  \n",
      "217444  My little pupster loves these things. She is n...  \n",
      "(393931, 10)\n"
     ]
    },
    {
     "data": {
      "text/plain": [
       "positive    336824\n",
       "negative     57107\n",
       "Name: Score, dtype: int64"
      ]
     },
     "execution_count": 7,
     "metadata": {},
     "output_type": "execute_result"
    }
   ],
   "source": [
    "#Processing of ProductId\n",
    "#Sorting data according to ProductId in ascending order\n",
    "sorted_data=amz.sort_values('ProductId', axis=0, ascending=True, inplace=False, kind='quicksort', na_position='last')\n",
    "#sorted_data.head() # printing sorted data\n",
    "# To check the duplications in raw data\n",
    "dupli=sorted_data[sorted_data.duplicated([\"UserId\",\"ProfileName\",\"Time\",\"Text\"])]\n",
    "print(dupli.head(5))\n",
    "# Remove Deduplication of entries\n",
    "final=sorted_data.drop_duplicates(subset={\"UserId\",\"ProfileName\",\"Time\",\"Text\"}, keep='first', inplace=False)\n",
    "final.shape\n",
    "#Checking to see how much % of data still remains\n",
    "(final['Id'].size*1.0)/(amz['Id'].size*1.0)*100\n",
    "final=final[final.HelpfulnessNumerator<=final.HelpfulnessDenominator]\n",
    "#Before starting the next phase of preprocessing lets see the number of entries left\n",
    "print(final.shape)\n",
    "\n",
    "#How many positive and negative reviews are present in our dataset?\n",
    "final['Score'].value_counts()"
   ]
  },
  {
   "cell_type": "code",
   "execution_count": 8,
   "metadata": {},
   "outputs": [
    {
     "name": "stdout",
     "output_type": "stream",
     "text": [
      "List of total counts Postive score and Negative score ==> [336824, 57107]\n"
     ]
    },
    {
     "data": {
      "text/plain": [
       "Text(0.5,1,'Total counts of Postive score and Negative score ')"
      ]
     },
     "execution_count": 8,
     "metadata": {},
     "output_type": "execute_result"
    },
    {
     "data": {
      "image/png": "[encoded data removed]",
      "text/plain": [
       "<Figure size 432x288 with 1 Axes>"
      ]
     },
     "metadata": {},
     "output_type": "display_data"
    }
   ],
   "source": [
    "a=final['Score'].value_counts().tolist()\n",
    "print('List of total counts Postive score and Negative score ==>',a)\n",
    "final['Score'].value_counts().plot(kind='bar')\n",
    "plt.title('Total counts of Postive score and Negative score ')\n"
   ]
  },
  {
   "cell_type": "markdown",
   "metadata": {},
   "source": [
    "#### observations\n",
    "* The positive reviews is greater than negative reviews.It makes data imbalanced.\n",
    "* From the bar plot ,it is seen that sampled datasets of review is imbalnced.\n"
   ]
  },
  {
   "cell_type": "markdown",
   "metadata": {},
   "source": [
    "# Text Preprocessing:"
   ]
  },
  {
   "cell_type": "code",
   "execution_count": 9,
   "metadata": {},
   "outputs": [
    {
     "name": "stdout",
     "output_type": "stream",
     "text": [
      "[nltk_data] Downloading package stopwords to /root/nltk_data...\n",
      "[nltk_data]   Unzipping corpora/stopwords.zip.\n"
     ]
    },
    {
     "data": {
      "text/plain": [
       "True"
      ]
     },
     "execution_count": 9,
     "metadata": {},
     "output_type": "execute_result"
    }
   ],
   "source": [
    "import nltk\n",
    "nltk.download('stopwords')"
   ]
  },
  {
   "cell_type": "code",
   "execution_count": 10,
   "metadata": {
    "scrolled": true
   },
   "outputs": [],
   "source": [
    " \n",
    "stop = set(stopwords.words('english')) #set of stopwords\n",
    "sno = nltk.stem.SnowballStemmer('english') #initialising the snowball stemmer\n",
    "\n",
    "def cleanhtml(sentence): #function to clean the word of any html-tags\n",
    "    cleanr = re.compile('<.*?>$< /><')\n",
    "    #cleanr = re.compile('<.*?>')\n",
    "    cleantext = re.sub(cleanr, ' ', sentence)\n",
    "    return cleantext\n",
    "def cleanpunc(sentence): #function to clean the word of any punctuation or special characters\n",
    "    cleaned = re.sub(r'[?|!|\\'|\"|#]',r'',sentence)\n",
    "    cleaned = re.sub(r'[.|,|)|(|\\|/]',r' ',cleaned)\n",
    "    return  cleaned\n"
   ]
  },
  {
   "cell_type": "markdown",
   "metadata": {},
   "source": [
    "cleaning html tags like\" <.*?>\" and punctuations like \" r'[?|!|\\'|\"|#]',r''\" from senetences"
   ]
  },
  {
   "cell_type": "code",
   "execution_count": 11,
   "metadata": {},
   "outputs": [],
   "source": [
    "#final = final.sample(frac=0.004,random_state=1)\n",
    "#print(final.shape)"
   ]
  },
  {
   "cell_type": "code",
   "execution_count": 12,
   "metadata": {},
   "outputs": [
    {
     "name": "stdout",
     "output_type": "stream",
     "text": [
      "all_positive_words = 12908031\n",
      "all_negative_words = 2338974\n",
      "\n",
      "Most Common Positive Words :  [(b'like', 159742), (b'tast', 148220), (b'flavor', 124991), (b'good', 124949), (b'use', 114020), (b'love', 112681), (b'product', 112391), (b'great', 107709), (b'one', 106238), (b'tri', 95717), (b'tea', 91571), (b'coffe', 88533), (b'make', 81463), (b'get', 80711), (b'food', 70743), (b'would', 66136), (b'amazon', 62151), (b'time', 60604), (b'buy', 60076), (b'realli', 59528)]\n",
      "\n",
      "Most Common Negative Words :  [(b'tast', 34433), (b'like', 32256), (b'product', 29435), (b'one', 20379), (b'flavor', 19479), (b'would', 17893), (b'tri', 17664), (b'use', 15260), (b'good', 14940), (b'coffe', 14602), (b'get', 13747), (b'buy', 13673), (b'order', 12829), (b'food', 12692), (b'dont', 11677), (b'tea', 11606), (b'amazon', 11230), (b'even', 10975), (b'box', 10779), (b'make', 9810)]\n"
     ]
    }
   ],
   "source": [
    "#Code for implementing step-by-step the checks mentioned in the pre-processing phase.\n",
    "\n",
    "'''Pre processing of text data:It is cleaning and flitering text'''\n",
    "i=0\n",
    "str1=' '\n",
    "global final_string\n",
    "final_string=[]\n",
    "all_positive_words=[] \n",
    "all_negative_words=[] \n",
    "s=''\n",
    "for sent in final['Text'].values:\n",
    "    filtered_sentence=[]\n",
    "    #print(sent);\n",
    "    sent=cleanhtml(sent) # remove HTMl tags\n",
    "    for w in sent.split():\n",
    "        for cleaned_words in cleanpunc(w).split():\n",
    "            if((cleaned_words.isalpha()) & (len(cleaned_words)>2)):    \n",
    "                if(cleaned_words.lower() not in stop):\n",
    "                    s=(sno.stem(cleaned_words.lower())).encode('utf8')\n",
    "                    filtered_sentence.append(s)\n",
    "                    if (final['Score'].values)[i] == 'positive': \n",
    "                        all_positive_words.append(s) #list of all words used to describe positive reviews\n",
    "                    if(final['Score'].values)[i] == 'negative':\n",
    "                        all_negative_words.append(s) #list of all words used to describe negative reviews reviews\n",
    "                else:\n",
    "                    continue\n",
    "            else:\n",
    "                continue \n",
    "    #print(filtered_sentence)\n",
    "    str1 = b\" \".join(filtered_sentence) #final string of cleaned words\n",
    "    #print(\"***********************************************************************\")\n",
    "\n",
    "    final_string.append(str1)\n",
    "    i+=1\n",
    "print('all_positive_words =',len(all_positive_words))\n",
    "print('all_negative_words =',len(all_negative_words))\n",
    "\n",
    "# Finding most frequently occuring Positive and Negative words \n",
    "\n",
    "freq_positive=nltk.FreqDist(all_positive_words)\n",
    "\n",
    "freq_negative=nltk.FreqDist(all_negative_words)\n",
    "\n",
    "print(\"\\nMost Common Positive Words : \",freq_positive.most_common(20))\n",
    "\n",
    "print(\"\\nMost Common Negative Words : \",freq_negative.most_common(20))\n",
    "\n",
    "\n"
   ]
  },
  {
   "cell_type": "code",
   "execution_count": 11,
   "metadata": {},
   "outputs": [],
   "source": [
    "pickle_path_final_string='final_string.pkl'\n",
    "final_string_unpkl=open(pickle_path_final_string,'rb')\n",
    "final_string=pickle.load(final_string_unpkl)"
   ]
  },
  {
   "cell_type": "code",
   "execution_count": 12,
   "metadata": {},
   "outputs": [
    {
     "name": "stdout",
     "output_type": "stream",
     "text": [
      "\n",
      "Pre_Process_Text_Data  X_Text= (393931,)\n",
      "\n",
      "Pre_Process_Score_Data Y_Score= (393931,)\n"
     ]
    }
   ],
   "source": [
    "\n",
    "final['CleanedText']=final_string\n",
    "#adding a column of CleanedText which displays the data after pre-processing of the review \n",
    "Pre_Process_Data = final[['CleanedText','Score']] \n",
    "\n",
    "X_Text=Pre_Process_Data ['CleanedText']\n",
    "\n",
    "Y_Score =Pre_Process_Data ['Score'] # positive or negative score\n",
    "print('\\nPre_Process_Text_Data  X_Text=',X_Text.shape)\n",
    "print('\\nPre_Process_Score_Data Y_Score=',Y_Score.shape)\n"
   ]
  },
  {
   "cell_type": "code",
   "execution_count": 13,
   "metadata": {},
   "outputs": [
    {
     "name": "stdout",
     "output_type": "stream",
     "text": [
      "positive    101047\n",
      "Name: Score, dtype: int64\n",
      "negative    57107\n",
      "Name: Score, dtype: int64\n"
     ]
    }
   ],
   "source": [
    "# postive and negtive reviews from original datasets of amazon\n",
    "pos_final = final[final.Score == 'positive']# postive reviews\n",
    "pos_final = pos_final.sample(frac=0.3)\n",
    "print(pos_final.Score.value_counts())\n",
    "\n",
    "neg_final = final[final.Score == 'negative'] # negative reviews\n",
    "print(neg_final.Score.value_counts())"
   ]
  },
  {
   "cell_type": "code",
   "execution_count": 14,
   "metadata": {},
   "outputs": [
    {
     "name": "stdout",
     "output_type": "stream",
     "text": [
      "158154\n",
      "<class 'pandas.core.frame.DataFrame'>\n"
     ]
    }
   ],
   "source": [
    "final_pos_neg = pd.concat([pos_final,neg_final],axis=0)\n",
    "print(len(final_pos_neg))\n",
    "print(type(final_pos_neg))\n",
    "#print('final_pos_neg=',final_pos_neg['Score'])"
   ]
  },
  {
   "cell_type": "code",
   "execution_count": 15,
   "metadata": {},
   "outputs": [
    {
     "name": "stdout",
     "output_type": "stream",
     "text": [
      "Index(['Id', 'ProductId', 'UserId', 'ProfileName', 'HelpfulnessNumerator',\n",
      "       'HelpfulnessDenominator', 'Score', 'Time', 'Summary', 'Text',\n",
      "       'CleanedText'],\n",
      "      dtype='object')\n"
     ]
    }
   ],
   "source": [
    "print(final_pos_neg.columns)"
   ]
  },
  {
   "cell_type": "markdown",
   "metadata": {},
   "source": [
    "### Splitting Training and Testing dataset based on Time"
   ]
  },
  {
   "cell_type": "code",
   "execution_count": 16,
   "metadata": {},
   "outputs": [
    {
     "name": "stdout",
     "output_type": "stream",
     "text": [
      "(40000, 1)\n",
      "(40000,)\n",
      "28000\n",
      "X_train_data  (28000, 1)\n",
      "X_test_data  (12000, 1)\n",
      "Y_train_data  (28000,)\n",
      "Y_test_data  (12000,)\n"
     ]
    }
   ],
   "source": [
    "# splitting training and testing dataset\n",
    "#final_pos_neg= final_pos_neg.sample(frac=0.07,random_state=1)\n",
    "X1 = final_pos_neg[['Text','Time']].sort_values('Time',axis=0).drop('Time',axis=1)\n",
    "#50k data sample\n",
    "X=X1[:40000]\n",
    "print(X.shape)\n",
    "Y1 = final_pos_neg[['Score','Time']].sort_values('Time',axis=0).drop('Time',axis=1)\n",
    "#50k data sample\n",
    "Y=Y1[:40000]\n",
    "Y = Y['Score'].map(lambda x: 1 if x == 'positive' else 0).values\n",
    "print(Y.shape)\n",
    "## 70 % of data\n",
    "tt =math.ceil(len(X)*.7)\n",
    "print(tt)\n",
    "\n",
    "X_train_data =  X[:tt] \n",
    "X_train_data  = X_train_data\n",
    "print('X_train_data ',X_train_data.shape)\n",
    "X_test_data = X[tt:]\n",
    "X_test_data = X_test_data\n",
    "print('X_test_data ',X_test_data.shape )\n",
    "Y_train_data = Y[:tt]\n",
    "Y_train_data  = Y_train_data\n",
    "print('Y_train_data ',Y_train_data.shape )\n",
    "Y_test_data = Y[tt:]\n",
    "Y_test_data= Y_test_data\n",
    "print('Y_test_data ',Y_test_data .shape)\n",
    "\n"
   ]
  },
  {
   "cell_type": "markdown",
   "metadata": {},
   "source": [
    "#### Unix timestamp\n",
    "The column *Time* is based on unix timestamp.The unix time stamp is a way to track time as a running total of seconds and In time technically does not change no matter where you are located on the globe. This is very useful to computer systems for tracking and sorting dated information in dynamic and distributed applications both online and client side. https://www.unixtimestamp.com/\n",
    "\n",
    "So here,time conversion is not necessary to process on amazon data.But following code will describe the date and time for human consideration.Time data is arranged according to year-month-day-hours-minute-seconds in descending order ."
   ]
  },
  {
   "cell_type": "code",
   "execution_count": 19,
   "metadata": {},
   "outputs": [
    {
     "name": "stdout",
     "output_type": "stream",
     "text": [
      "568454\n",
      "['2005-02-15 00:00:00', '2007-10-04 00:00:00', '2007-11-11 00:00:00', '2008-05-15 00:00:00', '2008-06-01 00:00:00']\n"
     ]
    }
   ],
   "source": [
    "# conversion of unix timestamp to human readable \n",
    "import datetime\n",
    "s=sorted_data['Time'].values.tolist() # convert pandas series into list\n",
    "print(len(s))\n",
    "ram=[]\n",
    "for i in range(len(s)):\n",
    "    \n",
    "    #print(s[i])\n",
    "\n",
    "    z=datetime.datetime.fromtimestamp(s[i]).strftime('%Y-%m-%d %H:%M:%S')\n",
    "    # conversion formula of unix timestamp to yy-mm-dd-hh-mm-ss\n",
    "    \n",
    "    ram.append(z)\n",
    "    #print(z)\n",
    "print(ram[0:5])\n"
   ]
  },
  {
   "cell_type": "markdown",
   "metadata": {},
   "source": [
    "#  Optimal Lambda for Logistic Regression"
   ]
  },
  {
   "cell_type": "code",
   "execution_count": 20,
   "metadata": {},
   "outputs": [
    {
     "data": {
      "text/html": [
       "<div>\n",
       "<style scoped>\n",
       "    .dataframe tbody tr th:only-of-type {\n",
       "        vertical-align: middle;\n",
       "    }\n",
       "\n",
       "    .dataframe tbody tr th {\n",
       "        vertical-align: top;\n",
       "    }\n",
       "\n",
       "    .dataframe thead th {\n",
       "        text-align: right;\n",
       "    }\n",
       "</style>\n",
       "<table border=\"1\" class=\"dataframe\">\n",
       "  <thead>\n",
       "    <tr style=\"text-align: right;\">\n",
       "      <th></th>\n",
       "      <th>Model</th>\n",
       "      <th>Vectorizer</th>\n",
       "      <th>SearchCV</th>\n",
       "      <th>Scoring Metrics</th>\n",
       "      <th>Train_model_score</th>\n",
       "      <th>Test_model_score</th>\n",
       "      <th>best panalty</th>\n",
       "      <th>Best lambda</th>\n",
       "    </tr>\n",
       "  </thead>\n",
       "  <tbody>\n",
       "  </tbody>\n",
       "</table>\n",
       "</div>"
      ],
      "text/plain": [
       "Empty DataFrame\n",
       "Columns: [Model, Vectorizer, SearchCV, Scoring Metrics, Train_model_score, Test_model_score, best panalty, Best lambda]\n",
       "Index: []"
      ]
     },
     "execution_count": 20,
     "metadata": {},
     "output_type": "execute_result"
    }
   ],
   "source": [
    "models_performence = {\n",
    "    'Model':[],\n",
    "    'Vectorizer': [],\n",
    "    'SearchCV':[],\n",
    "    'Scoring Metrics': [],\n",
    "    'Train_model_score': [],\n",
    "    'Test_model_score': [],\n",
    "    'best panalty': [],\n",
    "    'Best lambda':[],\n",
    "}\n",
    "\n",
    "columns = [\"Model\",\"Vectorizer\",\"SearchCV\", \"Scoring Metrics\",\"Train_model_score\",\"Test_model_score\", \"best panalty\",\"Best lambda\"]\n",
    "pd.DataFrame(models_performence, columns=columns)\n",
    "     \n",
    "   "
   ]
  },
  {
   "cell_type": "code",
   "execution_count": 17,
   "metadata": {},
   "outputs": [],
   "source": [
    " # Time seris splitting Cross-Validation\n",
    "tscv = TimeSeriesSplit(n_splits=10)"
   ]
  },
  {
   "cell_type": "code",
   "execution_count": 22,
   "metadata": {},
   "outputs": [],
   "source": [
    "#  lambda_LR is function to calculate the lambda value using 'L2' for Logistic Regression\n",
    "def lambda_LR(X_train,y_train,X_test, y_test,vectorization):\n",
    "    #  regularization penalty space\n",
    "    penalty = ['l1']\n",
    "    #  regularization hyperparameter distribution using uniform distribution\n",
    "    C1 = uniform(loc=0, scale=4)\n",
    "    C = np.logspace(0, 4, 10)\n",
    "    #  hyperparameter options\n",
    "    hp1 =dict(C=C, penalty=penalty)\n",
    "    hp = dict(C=C1, penalty=penalty)\n",
    "    # Scoring options\n",
    "    d = ['accuracy','precision','recall','f1']\n",
    "   \n",
    "    for i in range(len(d)):\n",
    "        models_performence['Model'].append('Logistic Regression')\n",
    "        models_performence['Vectorizer'].append(vectorization)\n",
    "        models_performence['SearchCV'].append('GridSearchCV')\n",
    "        #print('for GridSearchCV') \n",
    "        p = d[i]\n",
    "        models_performence['Scoring Metrics'].append(p)\n",
    "        model1 = GridSearchCV(LogisticRegression(), hp1, scoring = p, cv=tscv,n_jobs= -1)\n",
    "        best_model1=model1.fit(X_train, y_train)\n",
    "        \n",
    "        Test_model_score=model1.score(X_test, y_test)\n",
    "        Train_model_score=model1.score(X_train, y_train)\n",
    "        models_performence['Train_model_score'].append(Train_model_score.mean())\n",
    "        models_performence['Test_model_score'].append(Test_model_score.mean())\n",
    "        \n",
    "       # Reg1=best_model1.best_estimator_.get_params()['penalty']\n",
    "       \n",
    "        models_performence['best panalty'].append('l1')\n",
    "        optimal_l1=best_model1.best_estimator_.get_params()['C']\n",
    "        \n",
    "        models_performence['Best lambda'].append(optimal_l1)\n",
    "        \n",
    "        \n",
    "        \n",
    "        #print('For RandomsearchCV')\n",
    "        models_performence['Model'].append('Logistic Regression')\n",
    "        models_performence['Vectorizer'].append(vectorization)\n",
    "        \n",
    "        models_performence['SearchCV'].append('RandomsearchCV')\n",
    "        \n",
    "        model2 = RandomizedSearchCV(LogisticRegression(),hp,scoring = p, cv=tscv,n_jobs= -1)\n",
    "        # Fit randomized search\n",
    "        best_model2 = model2.fit(X_train,y_train)\n",
    "        \n",
    "        models_performence['Scoring Metrics'].append(p)\n",
    "        #print(model2.best_estimator_)\n",
    "        Test_model_score2=model2.score(X_test, y_test)\n",
    "        Train_model_score=model2.score(X_train, y_train)\n",
    "        models_performence['Train_model_score'].append(Train_model_score.mean())\n",
    "       \n",
    "        models_performence['Test_model_score'].append(Test_model_score2.mean())\n",
    "        #Reg2=best_model2.best_estimator_.get_params()['penalty']\n",
    "        \n",
    "        models_performence['best panalty'].append('l1')\n",
    "        optimal_l2=best_model2.best_estimator_.get_params()['C']\n",
    "       \n",
    "        \n",
    "        models_performence['Best lambda'].append(optimal_l2)\n",
    "        \n",
    "        \n",
    "       "
   ]
  },
  {
   "cell_type": "code",
   "execution_count": 23,
   "metadata": {},
   "outputs": [],
   "source": [
    "#  lambda_LR is function to calculate the lambda value using'L2' for Logistic Regression\n",
    "def lambda_LR1(X_train,y_train,X_test, y_test,vectorization):\n",
    "    #  regularization penalty space\n",
    "    penalty = ['l2']\n",
    "    #  regularization hyperparameter distribution using uniform distribution\n",
    "    C1 = uniform(loc=0, scale=4)\n",
    "    C = np.logspace(0, 4, 10)\n",
    "    #  hyperparameter options\n",
    "    hp1 =dict(C=C, penalty=penalty)\n",
    "    hp = dict(C=C1, penalty=penalty)\n",
    "    # Scoring options\n",
    "    d = ['accuracy','precision','recall','f1'] \n",
    "    \n",
    "    for i in range(len(d)):\n",
    "        models_performence['Model'].append('Logistic Regression')\n",
    "        models_performence['Vectorizer'].append(vectorization)\n",
    "        models_performence['SearchCV'].append('GridSearchCV')\n",
    "        #print('for GridSearchCV') \n",
    "        p = d[i]\n",
    "        models_performence['Scoring Metrics'].append(p)\n",
    "        model1 = GridSearchCV(LogisticRegression(), hp1, scoring = p, cv=tscv,n_jobs= -1)\n",
    "        best_model1=model1.fit(X_train, y_train)\n",
    "        \n",
    "        Test_model_score=model1.score(X_test, y_test)\n",
    "        Train_model_score=model1.score(X_train, y_train)\n",
    "        models_performence['Train_model_score'].append(Train_model_score.mean())\n",
    "        models_performence['Test_model_score'].append(Test_model_score.mean())\n",
    "        \n",
    "        #Reg1=best_model1.best_estimator_.get_params()['penalty']\n",
    "       \n",
    "        models_performence['best panalty'].append('l2')\n",
    "        optimal_l1=best_model1.best_estimator_.get_params()['C']\n",
    "        \n",
    "        models_performence['Best lambda'].append(optimal_l1)\n",
    "        \n",
    "        \n",
    "        \n",
    "        #print('For RandomsearchCV')\n",
    "        models_performence['Model'].append('Logistic Regression')\n",
    "        models_performence['Vectorizer'].append(vectorization)\n",
    "        \n",
    "        models_performence['SearchCV'].append('RandomsearchCV')\n",
    "        \n",
    "        model2 = RandomizedSearchCV(LogisticRegression(),hp,scoring = p, cv=tscv,n_jobs= -1)\n",
    "        # Fit randomized search\n",
    "        best_model2 = model2.fit(X_train,y_train)\n",
    "        \n",
    "        models_performence['Scoring Metrics'].append(p)\n",
    "        #print(model2.best_estimator_)\n",
    "        Test_model_score2=model2.score(X_test, y_test)\n",
    "        Train_model_score=model2.score(X_train, y_train)\n",
    "        models_performence['Train_model_score'].append(Train_model_score.mean())\n",
    "       \n",
    "        models_performence['Test_model_score'].append(Test_model_score2.mean())\n",
    "        #Reg2=best_model2.best_estimator_.get_params()['penalty']\n",
    "        \n",
    "        models_performence['best panalty'].append('l2')\n",
    "        optimal_l2=best_model2.best_estimator_.get_params()['C']\n",
    "       \n",
    "        \n",
    "        models_performence['Best lambda'].append(optimal_l2)\n",
    "        \n",
    "        \n",
    "       "
   ]
  },
  {
   "cell_type": "markdown",
   "metadata": {},
   "source": [
    "##### lambda_LR\n",
    "* lambda_LR is function to calculate the optimal lambda value for Logistic Regression.\n",
    "* GridsearchCV and RandomsearchCV method are used to obtain optimal lambda with L1&L2 penality,different scoring options(e.g,accuracy,precision,recall and F1-score) and broad range of lambda.\n",
    "* Best parameter lambda and penalty for which model performs very well is obatained.\n"
   ]
  },
  {
   "cell_type": "markdown",
   "metadata": {},
   "source": [
    "##### Pandas dataframe to markdown Table format"
   ]
  },
  {
   "cell_type": "code",
   "execution_count": 24,
   "metadata": {},
   "outputs": [],
   "source": [
    "# result_display  is function to convert dataframe into table format in Markdown\n",
    "def result_display(df):\n",
    "    writer = pytablewriter.MarkdownTableWriter()\n",
    "    #writer.table_name = name\n",
    "    writer.header_list = list(df.columns.values)\n",
    "    writer.value_matrix = df.values.tolist()\n",
    "    writer.write_table()\n",
    "\n",
    "\n",
    "    "
   ]
  },
  {
   "cell_type": "markdown",
   "metadata": {},
   "source": [
    "# Methods to convert text into vector"
   ]
  },
  {
   "cell_type": "markdown",
   "metadata": {},
   "source": [
    "Methods:\n",
    "* Bag of Words\n",
    "* Avg word2vec\n",
    "* Tf-idf\n",
    "* tf-idf weighted Word2Vec\n",
    "\n",
    "Using above four method is used to convert text to numeric vector."
   ]
  },
  {
   "cell_type": "markdown",
   "metadata": {},
   "source": [
    "# 1. Bag of Words (BoW)"
   ]
  },
  {
   "cell_type": "markdown",
   "metadata": {},
   "source": [
    "##### BOW for Training Data"
   ]
  },
  {
   "cell_type": "code",
   "execution_count": 25,
   "metadata": {},
   "outputs": [],
   "source": [
    "count_vect = CountVectorizer() #in scikit-learn"
   ]
  },
  {
   "cell_type": "code",
   "execution_count": 26,
   "metadata": {},
   "outputs": [
    {
     "name": "stdout",
     "output_type": "stream",
     "text": [
      "(28000, 33270)\n"
     ]
    }
   ],
   "source": [
    "#vector of train data\n",
    "data = count_vect.fit_transform(X_train_data.values.astype('U').ravel())\n",
    "data.get_shape()\n",
    "\n",
    "final_data = StandardScaler(with_mean=False).fit_transform(data )\n",
    "print(final_data.shape)\n",
    "    "
   ]
  },
  {
   "cell_type": "markdown",
   "metadata": {},
   "source": [
    "#### Dumping & Loading Pickle file for training data ( BOW )\n"
   ]
  },
  {
   "cell_type": "code",
   "execution_count": 27,
   "metadata": {},
   "outputs": [],
   "source": [
    "#Pickle file for training data\n",
    "pickle_path_BOW_train='X_train_data_BOW.pkl'\n",
    "X_train_data_BOW=open(pickle_path_BOW_train,'wb')\n",
    "pickle.dump(final_data ,X_train_data_BOW)\n",
    "X_train_data_BOW.close()\n"
   ]
  },
  {
   "cell_type": "code",
   "execution_count": 28,
   "metadata": {},
   "outputs": [],
   "source": [
    "\n",
    "pickle_path_BOW_train='X_train_data_BOW.pkl'\n",
    "unpickle_path1=open(pickle_path_BOW_train,'rb')\n",
    "final_data=pickle.load(unpickle_path1)\n"
   ]
  },
  {
   "cell_type": "markdown",
   "metadata": {},
   "source": [
    "##### BOW for Testing Data"
   ]
  },
  {
   "cell_type": "code",
   "execution_count": 29,
   "metadata": {},
   "outputs": [
    {
     "name": "stdout",
     "output_type": "stream",
     "text": [
      "(12000, 33270)\n"
     ]
    }
   ],
   "source": [
    "final_data1=count_vect.transform(X_test_data.values.ravel())\n",
    "#print(final_data1)\n",
    "final_data_test = StandardScaler(with_mean=False).fit_transform(final_data1)\n",
    "print(final_data_test.shape)"
   ]
  },
  {
   "cell_type": "markdown",
   "metadata": {},
   "source": [
    "#### Dumping & Loading Pickle file for testing data ( BOW) "
   ]
  },
  {
   "cell_type": "code",
   "execution_count": 30,
   "metadata": {},
   "outputs": [],
   "source": [
    "pickle_path_BOW_test='X_test_data_BOW.pkl'\n",
    "X_test_data_BOW=open(pickle_path_BOW_test,'wb')\n",
    "pickle.dump(final_data_test ,X_test_data_BOW)\n",
    "X_test_data_BOW.close()"
   ]
  },
  {
   "cell_type": "code",
   "execution_count": 31,
   "metadata": {},
   "outputs": [],
   "source": [
    "pickle_path_BOW_test='X_test_data_BOW.pkl'\n",
    "unpickle_path2=open(pickle_path_BOW_test,'rb')\n",
    "final_data_test=pickle.load(unpickle_path2)"
   ]
  },
  {
   "cell_type": "markdown",
   "metadata": {},
   "source": [
    " Featured data of Bag of words is Standardization (mean=0 and std.dev=1)."
   ]
  },
  {
   "cell_type": "code",
   "execution_count": 17,
   "metadata": {},
   "outputs": [],
   "source": [
    "Train_data=Y_train_data"
   ]
  },
  {
   "cell_type": "markdown",
   "metadata": {},
   "source": [
    "#### Optimal lambda using BOW (l1 regularization)"
   ]
  },
  {
   "cell_type": "code",
   "execution_count": 33,
   "metadata": {},
   "outputs": [],
   "source": [
    "# To get optimal lambda using BOW\n",
    "vectorization='BOW'\n",
    "optimal_lambda = lambda_LR(final_data ,Train_data,final_data_test,Y_test_data,vectorization )"
   ]
  },
  {
   "cell_type": "markdown",
   "metadata": {},
   "source": [
    "#### Optimal lambda using BOW (l2 regularization)"
   ]
  },
  {
   "cell_type": "code",
   "execution_count": 34,
   "metadata": {},
   "outputs": [],
   "source": [
    "# To get optimal lambda using BOW\n",
    "\n",
    "vectorization='BOW'\n",
    "optimal_lambda = lambda_LR1(final_data ,Train_data,final_data_test,Y_test_data,vectorization )"
   ]
  },
  {
   "cell_type": "markdown",
   "metadata": {},
   "source": [
    "#### Dumping & loading model-performance in pickle format(BOW)"
   ]
  },
  {
   "cell_type": "code",
   "execution_count": 35,
   "metadata": {},
   "outputs": [],
   "source": [
    "pickle_path_BOW_lambda='optimal_lambda_BOW.pkl'\n",
    "optimal_lambda_BOW=open(pickle_path_BOW_lambda,'wb')\n",
    "pickle.dump(models_performence,optimal_lambda_BOW)\n",
    "optimal_lambda_BOW.close()\n"
   ]
  },
  {
   "cell_type": "code",
   "execution_count": 36,
   "metadata": {},
   "outputs": [],
   "source": [
    "pickle_path_BOW_lambda='optimal_lambda_BOW.pkl'\n",
    "unpickle_path11=open(pickle_path_BOW_lambda,'rb')\n",
    "models_performence22=pickle.load(unpickle_path11)"
   ]
  },
  {
   "cell_type": "code",
   "execution_count": 37,
   "metadata": {},
   "outputs": [],
   "source": [
    "columns = [\"Model\",\"Vectorizer\",\"SearchCV\", \"Scoring Metrics\",\"Train_model_score\", \"Test_model_score\", \"best panalty\",\"Best lambda\"]\n",
    "df=pd.DataFrame(models_performence22, columns=columns)\n",
    "    "
   ]
  },
  {
   "cell_type": "code",
   "execution_count": 38,
   "metadata": {},
   "outputs": [
    {
     "name": "stdout",
     "output_type": "stream",
     "text": [
      "|       Model       |Vectorizer|   SearchCV   |Scoring Metrics|Train_model_score|Test_model_score|best panalty|Best lambda|\n",
      "|-------------------|----------|--------------|---------------|----------------:|---------------:|------------|----------:|\n",
      "|Logistic Regression|BOW       |GridSearchCV  |accuracy       |           0.9993|          0.8206|l1          |     1.0000|\n",
      "|Logistic Regression|BOW       |RandomsearchCV|accuracy       |           0.9917|          0.8477|l1          |     0.1599|\n",
      "|Logistic Regression|BOW       |GridSearchCV  |precision      |           0.9993|          0.8587|l1          |     1.0000|\n",
      "|Logistic Regression|BOW       |RandomsearchCV|precision      |           0.9912|          0.8725|l1          |     0.1387|\n",
      "|Logistic Regression|BOW       |GridSearchCV  |recall         |           0.9997|          0.8791|l1          |     1.0000|\n",
      "|Logistic Regression|BOW       |RandomsearchCV|recall         |           0.9983|          0.8933|l1          |     0.3494|\n",
      "|Logistic Regression|BOW       |GridSearchCV  |f1             |           0.9995|          0.8691|l1          |     1.0000|\n",
      "|Logistic Regression|BOW       |RandomsearchCV|f1             |           0.9995|          0.8692|l1          |     0.9742|\n",
      "|Logistic Regression|BOW       |GridSearchCV  |accuracy       |           0.9999|          0.8016|l2          |     1.0000|\n",
      "|Logistic Regression|BOW       |RandomsearchCV|accuracy       |           0.9997|          0.8082|l2          |     0.3761|\n",
      "|Logistic Regression|BOW       |GridSearchCV  |precision      |           1.0000|          0.8389|l2          |    21.5443|\n",
      "|Logistic Regression|BOW       |RandomsearchCV|precision      |           0.9938|          0.8578|l2          |     0.0108|\n",
      "|Logistic Regression|BOW       |GridSearchCV  |recall         |           1.0000|          0.8688|l2          |     1.0000|\n",
      "|Logistic Regression|BOW       |RandomsearchCV|recall         |           0.9990|          0.8934|l2          |     0.0497|\n",
      "|Logistic Regression|BOW       |GridSearchCV  |f1             |           0.9999|          0.8554|l2          |     1.0000|\n",
      "|Logistic Regression|BOW       |RandomsearchCV|f1             |           0.9999|          0.8560|l2          |     0.8697|\n",
      "\n"
     ]
    }
   ],
   "source": [
    "result_display(df)"
   ]
  },
  {
   "cell_type": "markdown",
   "metadata": {},
   "source": [
    "|       Model       |Vectorizer|   SearchCV   |Scoring Metrics|Train_model_score|Test_model_score|best panalty|Best lambda|\n",
    "|-------------------|----------|--------------|---------------|----------------:|---------------:|------------|----------:|\n",
    "|Logistic Regression|BOW       |GridSearchCV  |accuracy       |           0.9993|          0.8206|l1          |     1.0000|\n",
    "|Logistic Regression|BOW       |RandomsearchCV|accuracy       |           0.9917|          0.8477|l1          |     0.1599|\n",
    "|Logistic Regression|BOW       |GridSearchCV  |precision      |           0.9993|          0.8587|l1          |     1.0000|\n",
    "|Logistic Regression|BOW       |RandomsearchCV|precision      |           0.9912|          0.8725|l1          |     0.1387|\n",
    "|Logistic Regression|BOW       |GridSearchCV  |recall         |           0.9997|          0.8791|l1          |     1.0000|\n",
    "|Logistic Regression|BOW       |RandomsearchCV|recall         |           0.9983|          0.8933|l1          |     0.3494|\n",
    "|Logistic Regression|BOW       |GridSearchCV  |f1             |           0.9995|          0.8691|l1          |     1.0000|\n",
    "|Logistic Regression|BOW       |RandomsearchCV|f1             |           0.9995|          0.8692|l1          |     0.9742|\n",
    "|Logistic Regression|BOW       |GridSearchCV  |accuracy       |           0.9999|          0.8016|l2          |     1.0000|\n",
    "|Logistic Regression|BOW       |RandomsearchCV|accuracy       |           0.9997|          0.8082|l2          |     0.3761|\n",
    "|Logistic Regression|BOW       |GridSearchCV  |precision      |           1.0000|          0.8389|l2          |    21.5443|\n",
    "|Logistic Regression|BOW       |RandomsearchCV|precision      |           0.9938|          0.8578|l2          |     0.0108|\n",
    "|Logistic Regression|BOW       |GridSearchCV  |recall         |           1.0000|          0.8688|l2          |     1.0000|\n",
    "|Logistic Regression|BOW       |RandomsearchCV|recall         |           0.9990|          0.8934|l2          |     0.0497|\n",
    "|Logistic Regression|BOW       |GridSearchCV  |f1             |           0.9999|          0.8554|l2          |     1.0000|\n",
    "|Logistic Regression|BOW       |RandomsearchCV|f1             |           0.9999|          0.8560|l2          |     0.8697|\n"
   ]
  },
  {
   "cell_type": "markdown",
   "metadata": {},
   "source": [
    "Above table describes the performance of model with different scoring techniques and regularization techniques with best Cross-validation search techniques."
   ]
  },
  {
   "cell_type": "markdown",
   "metadata": {},
   "source": [
    "# L1 Regularization\n",
    "#####  Increase lambda hyperparameter to generate sparcity in dataset."
   ]
  },
  {
   "cell_type": "code",
   "execution_count": 39,
   "metadata": {},
   "outputs": [
    {
     "name": "stdout",
     "output_type": "stream",
     "text": [
      "\n",
      "The optimal number of lambda is 0.\n"
     ]
    },
    {
     "data": {
      "image/png": "[encoded data removed]",
      "text/plain": [
       "<Figure size 1080x576 with 1 Axes>"
      ]
     },
     "metadata": {},
     "output_type": "display_data"
    },
    {
     "name": "stdout",
     "output_type": "stream",
     "text": [
      "the misclassification error for each lambda_Value is :  [0.675 0.675 0.675 0.675 0.675 0.675 0.675 0.675 0.675 0.675 0.675 0.675\n",
      " 0.675 0.675 0.675 0.675 0.147 0.209 0.223 0.231 0.228 0.228 0.234 0.229\n",
      " 0.232 0.231 0.231 0.235 0.23  0.235 0.23  0.23  0.234 0.231 0.229 0.234\n",
      " 0.237 0.233 0.23  0.235 0.233 0.232 0.233 0.233 0.23  0.229 0.233 0.235\n",
      " 0.234 0.232]\n",
      "Sparsity == [0, 0, 0, 0, 0, 0, 0, 0, 0, 0, 0, 0, 0, 0, 0, 0, 8247, 16627, 22818, 29899, 32907, 33146, 33226, 33256, 33265, 33269, 33270, 33265, 33270, 33269, 33270, 33270, 33270, 33270, 33270, 33270, 33270, 33270, 33270, 33270, 33270, 33270, 33270, 33270, 33270, 33270, 33270, 33270, 33270, 33270]\n"
     ]
    }
   ],
   "source": [
    "C2 = np.logspace(-50, 100, 50)\n",
    "hp2= list(C2)\n",
    "socore=[]\n",
    "Sparsity=[]\n",
    "\n",
    "for vect_data in range(len(hp2)):\n",
    "    r=hp2[vect_data]\n",
    "    clf = LogisticRegression(C=r, penalty='l1')\n",
    "    clf.fit(final_data ,Train_data)\n",
    "    w1 = clf.coef_\n",
    "    #print(np.count_nonzero(w1))\n",
    "    Sparsity.append(np.count_nonzero(w1))\n",
    "    w = clf.coef_.ravel()\n",
    "    model_score=clf.score(final_data_test,Y_test_data)\n",
    "    socore.append(model_score)\n",
    "\n",
    "MSE = [1 - x for x in socore]\n",
    "global optimal_k\n",
    "optimal_k = hp2[MSE.index(min(MSE))]\n",
    "print('\\nThe optimal number of lambda is %d.' % optimal_k)\n",
    "\n",
    "\n",
    "\n",
    "  # plot misclassification error vs k \n",
    "plt.figure(figsize=(15,8))\n",
    "plt.plot(hp2, MSE)\n",
    "plt.grid()\n",
    "#for xy in zip(hp2, np.round(MSE,3)):\n",
    "#    plt.annotate('(%s, %s)' % xy, xy=xy, textcoords='data')\n",
    "plt.title('Error_Rate vs. lambda_Value')\n",
    "plt.xlabel('Number of lambda')\n",
    "plt.ylabel('Misclassification Error')\n",
    "plt.show()\n",
    "\n",
    "print(\"the misclassification error for each lambda_Value is : \", np.round(MSE,3))\n",
    "\n",
    "#print(socore)\n",
    "print('Sparsity ==',Sparsity)"
   ]
  },
  {
   "cell_type": "markdown",
   "metadata": {},
   "source": [
    "#### Observations:\n",
    "* Sparsity of data increases as Increase in lambda hyperparameter.\n",
    "* L1 regularization is used for calculating sparsityof datasets.\n",
    "* The graph of error rate vs lambda value is shown above.\n",
    "\n"
   ]
  },
  {
   "cell_type": "markdown",
   "metadata": {},
   "source": [
    "## GridSearchCV with L2 regularization (BOW)"
   ]
  },
  {
   "cell_type": "code",
   "execution_count": 40,
   "metadata": {},
   "outputs": [
    {
     "name": "stdout",
     "output_type": "stream",
     "text": [
      "Model                Logistic Regression\n",
      "Vectorizer                           BOW\n",
      "SearchCV                    GridSearchCV\n",
      "Scoring Metrics                   recall\n",
      "Train_model_score                      1\n",
      "Test_model_score                0.868846\n",
      "best panalty                          l2\n",
      "Best lambda                            1\n",
      "Name: 12, dtype: object\n"
     ]
    }
   ],
   "source": [
    "df=pd.DataFrame(models_performence22, columns=columns)\n",
    "zx=df[df['best panalty'] == 'l2']\n",
    "zx=zx[zx['SearchCV']=='GridSearchCV']\n",
    "zx= zx.ix[zx['Test_model_score'].idxmax()]\n",
    "print(zx)\n",
    "lambdax=zx['Best lambda']\n",
    "\n",
    "best_panalty=zx['best panalty']\n",
    "\n",
    "Scoring_Metrics =zx['Scoring Metrics']\n",
    "SearchCV=zx['SearchCV']\n",
    "#print(SearchCV)\n"
   ]
  },
  {
   "cell_type": "code",
   "execution_count": 41,
   "metadata": {},
   "outputs": [],
   "source": [
    "#Best lambda and best penalty\n",
    "hp1=dict(C=[lambdax], penalty=[best_panalty])\n",
    "LR =GridSearchCV(LogisticRegression(), hp1, scoring =Scoring_Metrics, cv=tscv)\n",
    "LR.fit(final_data ,Train_data)\n",
    "\n",
    "prediction1 = LR.predict(final_data_test)\n",
    "\n"
   ]
  },
  {
   "cell_type": "code",
   "execution_count": 42,
   "metadata": {},
   "outputs": [
    {
     "name": "stdout",
     "output_type": "stream",
     "text": [
      "training accuracy= 1.0\n",
      "training error is = 0.0\n"
     ]
    }
   ],
   "source": [
    "#Training accuracy and training error\n",
    "training_score=LR.score(final_data,Train_data)\n",
    "print('training accuracy=',training_score)\n",
    "training_error=1-training_score\n",
    "print('training error is =',training_error)"
   ]
  },
  {
   "cell_type": "code",
   "execution_count": 43,
   "metadata": {},
   "outputs": [
    {
     "name": "stdout",
     "output_type": "stream",
     "text": [
      "Accuracy for Logistic Regression model with Bag of words is =  0.80158\n",
      "Testing error for Logistic Regression model with Bag of words is =  0.19842000000000004\n"
     ]
    }
   ],
   "source": [
    "# Testing Accuracy and testing error for LogisticRegression model\n",
    "\n",
    "Testing_score=round(accuracy_score(Y_test_data ,prediction1),5)\n",
    "print(\"Accuracy for Logistic Regression model with Bag of words is = \",Testing_score)\n",
    "Testing_error=1-Testing_score\n",
    "print(\"Testing error for Logistic Regression model with Bag of words is = \",Testing_error)"
   ]
  },
  {
   "cell_type": "code",
   "execution_count": 44,
   "metadata": {},
   "outputs": [],
   "source": [
    "F1_score = round(f1_score(Y_test_data ,prediction1,average='macro'),5)*100\n",
    "recall = round(recall_score(Y_test_data,prediction1,average='macro'),5)*100\n",
    "precision = round(precision_score(Y_test_data ,prediction1,average='macro'),5)*100"
   ]
  },
  {
   "cell_type": "code",
   "execution_count": 45,
   "metadata": {},
   "outputs": [
    {
     "name": "stdout",
     "output_type": "stream",
     "text": [
      "             precision    recall  f1-score   support\n",
      "\n",
      "          0       0.71      0.66      0.68      3895\n",
      "          1       0.84      0.87      0.86      8105\n",
      "\n",
      "avg / total       0.80      0.80      0.80     12000\n",
      "\n"
     ]
    }
   ],
   "source": [
    "print(classification_report( Y_test_data,prediction1))"
   ]
  },
  {
   "cell_type": "code",
   "execution_count": 46,
   "metadata": {},
   "outputs": [
    {
     "data": {
      "image/png": "[encoded data removed]",
      "text/plain": [
       "<Figure size 432x288 with 2 Axes>"
      ]
     },
     "metadata": {},
     "output_type": "display_data"
    }
   ],
   "source": [
    "cm = confusion_matrix(Y_test_data ,prediction1)\n",
    "label = ['negative', 'positive']\n",
    "df_conf = pd.DataFrame(cm, index = label, columns = label)\n",
    "sns.heatmap(df_conf, annot = True, fmt = \"d\")\n",
    "plt.title(\"Confusiion Matrix\")\n",
    "plt.xlabel(\"Predicted Label\")\n",
    "plt.ylabel(\"True Label\")\n",
    "plt.show()"
   ]
  },
  {
   "cell_type": "code",
   "execution_count": 47,
   "metadata": {},
   "outputs": [],
   "source": [
    "\n",
    "models_performence1 = {\n",
    "    'Model':['Logistic Regression'],   \n",
    "    'Vectorizer': ['BoW'],\n",
    "    'SearchCV':[SearchCV],\n",
    "    'Best penalty':[best_panalty],\n",
    "    'Optimal lambda': [lambdax],\n",
    "    'Training error':[training_error*100],\n",
    "    'Test error':[Testing_error*100],\n",
    "    'Accuracy':[Testing_score],\n",
    "    'F1':[F1_score],\n",
    "    'recall':[recall],\n",
    "    'precision':[precision]\n",
    "    \n",
    "  \n",
    "}"
   ]
  },
  {
   "cell_type": "code",
   "execution_count": 48,
   "metadata": {
    "scrolled": false
   },
   "outputs": [],
   "source": [
    "columns = [\"Model\",\"Vectorizer\",\"SearchCV\", \"Best penalty\",\"Optimal lambda\", \"Training error\",  \"Test error\",\n",
    "            \"Accuracy\",\"F1\",\"recall\",\"precision\",\n",
    "          ]\n",
    "df1=pd.DataFrame(models_performence1, columns=columns)"
   ]
  },
  {
   "cell_type": "code",
   "execution_count": 49,
   "metadata": {},
   "outputs": [
    {
     "name": "stdout",
     "output_type": "stream",
     "text": [
      "|       Model       |Vectorizer|  SearchCV  |Best penalty|Optimal lambda|Training error|Test error|Accuracy| F1  |recall|precision|\n",
      "|-------------------|----------|------------|------------|-------------:|-------------:|---------:|-------:|----:|-----:|--------:|\n",
      "|Logistic Regression|BoW       |GridSearchCV|l2          |             1|             0|     19.84|  0.8016|76.97| 76.52|    77.52|\n",
      "\n"
     ]
    }
   ],
   "source": [
    "result_display(df1)"
   ]
  },
  {
   "cell_type": "markdown",
   "metadata": {},
   "source": [
    "|       Model       |Vectorizer|  SearchCV  |Best penalty|Optimal lambda|Training error|Test error|Accuracy| F1  |recall|precision|\n",
    "|-------------------|----------|------------|------------|-------------:|-------------:|---------:|-------:|----:|-----:|--------:|\n",
    "|Logistic Regression|BoW       |GridSearchCV|l2          |             1|             0|     19.84|  0.8016|76.97| 76.52|    77.52|"
   ]
  },
  {
   "cell_type": "markdown",
   "metadata": {},
   "source": [
    "## RandomsearchCV with L2 regularization (BOW)"
   ]
  },
  {
   "cell_type": "code",
   "execution_count": 50,
   "metadata": {},
   "outputs": [
    {
     "name": "stdout",
     "output_type": "stream",
     "text": [
      "Model                Logistic Regression\n",
      "Vectorizer                           BOW\n",
      "SearchCV                  RandomsearchCV\n",
      "Scoring Metrics                   recall\n",
      "Train_model_score               0.999046\n",
      "Test_model_score                0.893399\n",
      "best panalty                          l2\n",
      "Best lambda                    0.0497333\n",
      "Name: 13, dtype: object\n"
     ]
    }
   ],
   "source": [
    "#RandomsearchCV\n",
    "zx=df[df['best panalty'] == 'l2']\n",
    "zx=zx[zx['SearchCV']=='RandomsearchCV']\n",
    "zx= zx.ix[zx['Test_model_score'].idxmax()]\n",
    "print(zx)\n",
    "lambdax=zx['Best lambda']\n",
    "\n",
    "best_panalty=zx['best panalty']\n",
    "\n",
    "Scoring_Metrics =zx['Scoring Metrics']\n",
    "SearchCV=zx['SearchCV']\n",
    "#print(SearchCV)"
   ]
  },
  {
   "cell_type": "code",
   "execution_count": 51,
   "metadata": {},
   "outputs": [],
   "source": [
    "#Best lambda and best penalty\n",
    "C1 = uniform(loc=0, scale=lambdax)\n",
    "hp2=dict(C=C1, penalty=[best_panalty])\n",
    "LR2 =RandomizedSearchCV(LogisticRegression(), hp2, scoring =Scoring_Metrics, cv=tscv)\n",
    "LR2.fit(final_data ,Train_data)\n",
    "\n",
    "prediction2 = LR2.predict(final_data_test)\n",
    "lambda_new=LR2.best_params_['C']"
   ]
  },
  {
   "cell_type": "code",
   "execution_count": 52,
   "metadata": {},
   "outputs": [
    {
     "name": "stdout",
     "output_type": "stream",
     "text": [
      "training accuracy= 0.9955312311709179\n",
      "training error is = 0.004468768829082093\n"
     ]
    }
   ],
   "source": [
    "#Training accuracy and training error\n",
    "training_score=LR2.score(final_data,Train_data)\n",
    "print('training accuracy=',training_score)\n",
    "training_error=1-training_score\n",
    "print('training error is =',training_error)"
   ]
  },
  {
   "cell_type": "code",
   "execution_count": 53,
   "metadata": {},
   "outputs": [
    {
     "name": "stdout",
     "output_type": "stream",
     "text": [
      "Accuracy for Logistic Regression model with Bag of words is =  0.846\n",
      "Testing error for Logistic Regression model with Bag of words is =  0.15400000000000003\n"
     ]
    }
   ],
   "source": [
    "# Testing Accuracy and testing error for LogisticRegression model\n",
    "\n",
    "Testing_score=round(accuracy_score(Y_test_data ,prediction2),5)\n",
    "print(\"Accuracy for Logistic Regression model with Bag of words is = \",Testing_score)\n",
    "Testing_error=1-Testing_score\n",
    "print(\"Testing error for Logistic Regression model with Bag of words is = \",Testing_error)"
   ]
  },
  {
   "cell_type": "code",
   "execution_count": 54,
   "metadata": {},
   "outputs": [],
   "source": [
    "F1_score = round(f1_score(Y_test_data ,prediction2,average='macro'),5)*100\n",
    "recall = round(recall_score(Y_test_data,prediction2,average='macro'),5)*100\n",
    "precision = round(precision_score(Y_test_data ,prediction2,average='macro'),5)*100"
   ]
  },
  {
   "cell_type": "code",
   "execution_count": 55,
   "metadata": {},
   "outputs": [
    {
     "name": "stdout",
     "output_type": "stream",
     "text": [
      "             precision    recall  f1-score   support\n",
      "\n",
      "          0       0.81      0.68      0.74      3895\n",
      "          1       0.86      0.92      0.89      8105\n",
      "\n",
      "avg / total       0.84      0.85      0.84     12000\n",
      "\n"
     ]
    }
   ],
   "source": [
    "print(classification_report( Y_test_data,prediction2))"
   ]
  },
  {
   "cell_type": "code",
   "execution_count": 56,
   "metadata": {},
   "outputs": [
    {
     "data": {
      "image/png": "[encoded data removed]",
      "text/plain": [
       "<Figure size 432x288 with 2 Axes>"
      ]
     },
     "metadata": {},
     "output_type": "display_data"
    }
   ],
   "source": [
    "cm = confusion_matrix(Y_test_data ,prediction2)\n",
    "label = ['negative', 'positive']\n",
    "df_conf = pd.DataFrame(cm, index = label, columns = label)\n",
    "sns.heatmap(df_conf, annot = True, fmt = \"d\")\n",
    "plt.title(\"Confusiion Matrix\")\n",
    "plt.xlabel(\"Predicted Label\")\n",
    "plt.ylabel(\"True Label\")\n",
    "plt.show()"
   ]
  },
  {
   "cell_type": "code",
   "execution_count": 57,
   "metadata": {},
   "outputs": [],
   "source": [
    "models_performence1['Model'].append('Logistic Regression')\n",
    "models_performence1['Vectorizer'].append('BOW')\n",
    "models_performence1['SearchCV'].append(SearchCV)\n",
    "models_performence1['Best penalty'].append(best_panalty)\n",
    "models_performence1[ 'Optimal lambda'].append(lambda_new)\n",
    "models_performence1['Training error'].append(training_error*100)\n",
    "models_performence1[ 'Test error'].append(Testing_error*100)\n",
    "models_performence1[ 'Accuracy'].append(Testing_score)\n",
    "models_performence1[ 'F1'].append(F1_score)\n",
    "models_performence1['recall'].append(recall)\n",
    "models_performence1[ 'precision'].append(precision)"
   ]
  },
  {
   "cell_type": "code",
   "execution_count": 58,
   "metadata": {},
   "outputs": [],
   "source": [
    "columns = [\"Model\",\"Vectorizer\",\"SearchCV\", \"Best penalty\",\"Optimal lambda\", \"Training error\",  \"Test error\",\n",
    "            \"Accuracy\",\"F1\",\"recall\",\"precision\",\n",
    "          ]\n",
    "df3=pd.DataFrame(models_performence1, columns=columns)"
   ]
  },
  {
   "cell_type": "code",
   "execution_count": 59,
   "metadata": {},
   "outputs": [
    {
     "name": "stdout",
     "output_type": "stream",
     "text": [
      "|       Model       |Vectorizer|   SearchCV   |Best penalty|Optimal lambda|Training error|Test error|Accuracy| F1  |recall|precision|\n",
      "|-------------------|----------|--------------|------------|-------------:|-------------:|---------:|-------:|----:|-----:|--------:|\n",
      "|Logistic Regression|BoW       |GridSearchCV  |l2          |        1.0000|         0.000|     19.84|  0.8016|76.97| 76.52|    77.52|\n",
      "|Logistic Regression|BOW       |RandomsearchCV|l2          |        0.0042|         0.447|     15.40|  0.8460|81.63| 80.40|    83.53|\n",
      "\n"
     ]
    }
   ],
   "source": [
    "result_display(df3)"
   ]
  },
  {
   "cell_type": "markdown",
   "metadata": {},
   "source": [
    "|       Model       |Vectorizer|   SearchCV   |Best penalty|Optimal lambda|Training error|Test error|Accuracy| F1  |recall|precision|\n",
    "|-------------------|----------|--------------|------------|-------------:|-------------:|---------:|-------:|----:|-----:|--------:|\n",
    "|Logistic Regression|BoW       |GridSearchCV  |l2          |        1.0000|         0.000|     19.84|  0.8016|76.97| 76.52|    77.52|\n",
    "|Logistic Regression|BOW       |RandomsearchCV|l2          |        0.0042|         0.447|     15.40|  0.8460|81.63| 80.40|    83.53|"
   ]
  },
  {
   "cell_type": "markdown",
   "metadata": {},
   "source": [
    "## GridSearchCV with L1 regularization (BOW)"
   ]
  },
  {
   "cell_type": "code",
   "execution_count": 60,
   "metadata": {},
   "outputs": [
    {
     "name": "stdout",
     "output_type": "stream",
     "text": [
      "Model                Logistic Regression\n",
      "Vectorizer                           BOW\n",
      "SearchCV                    GridSearchCV\n",
      "Scoring Metrics                   recall\n",
      "Train_model_score               0.999749\n",
      "Test_model_score                0.879087\n",
      "best panalty                          l1\n",
      "Best lambda                            1\n",
      "Name: 4, dtype: object\n"
     ]
    }
   ],
   "source": [
    "zx=df[df['best panalty'] == 'l1']\n",
    "zx=zx[zx['SearchCV']=='GridSearchCV']\n",
    "zx= zx.ix[zx['Test_model_score'].idxmax()]\n",
    "print(zx)\n",
    "lambdax=zx['Best lambda']\n",
    "\n",
    "best_panalty=zx['best panalty']\n",
    "\n",
    "Scoring_Metrics =zx['Scoring Metrics']\n",
    "SearchCV=zx['SearchCV']\n",
    "#print(SearchCV)"
   ]
  },
  {
   "cell_type": "code",
   "execution_count": 61,
   "metadata": {},
   "outputs": [],
   "source": [
    "\n",
    "hp3=dict(C=[lambdax], penalty=[best_panalty])\n",
    "\n",
    "LR3 =GridSearchCV(LogisticRegression(), hp3, scoring = Scoring_Metrics, cv=tscv)\n",
    "\n",
    "LR3.fit(final_data ,Train_data)\n",
    "\n",
    "prediction3 = LR3.predict(final_data_test)"
   ]
  },
  {
   "cell_type": "code",
   "execution_count": 62,
   "metadata": {},
   "outputs": [
    {
     "name": "stdout",
     "output_type": "stream",
     "text": [
      "training accuracy= 0.9997489455713999\n",
      "training error is = 0.00025105442860007265\n"
     ]
    }
   ],
   "source": [
    "#Training accuracy and training error\n",
    "training_score=LR3.score(final_data,Train_data)\n",
    "print('training accuracy=',training_score)\n",
    "training_error=1-training_score\n",
    "print('training error is =',training_error)"
   ]
  },
  {
   "cell_type": "code",
   "execution_count": 63,
   "metadata": {},
   "outputs": [
    {
     "name": "stdout",
     "output_type": "stream",
     "text": [
      "Accuracy for Logistic Regression model with Bag of words is =  0.82075\n",
      "Testing error for Logistic Regression model with Bag of words is =  0.17925000000000002\n"
     ]
    }
   ],
   "source": [
    "# Testing Accuracy and testing error for LogisticRegression model\n",
    "Testing_score=round(accuracy_score(Y_test_data ,prediction3),5)\n",
    "print(\"Accuracy for Logistic Regression model with Bag of words is = \",Testing_score)\n",
    "Testing_error=1-Testing_score\n",
    "print(\"Testing error for Logistic Regression model with Bag of words is = \",Testing_error)"
   ]
  },
  {
   "cell_type": "code",
   "execution_count": 64,
   "metadata": {},
   "outputs": [],
   "source": [
    "F1_score = round(f1_score(Y_test_data ,prediction3,average='macro'),5)*100\n",
    "recall = round(recall_score(Y_test_data,prediction3,average='macro'),5)*100\n",
    "precision = round(precision_score(Y_test_data ,prediction3,average='macro'),5)*100"
   ]
  },
  {
   "cell_type": "code",
   "execution_count": 65,
   "metadata": {},
   "outputs": [
    {
     "name": "stdout",
     "output_type": "stream",
     "text": [
      "             precision    recall  f1-score   support\n",
      "\n",
      "          0       0.74      0.70      0.72      3895\n",
      "          1       0.86      0.88      0.87      8105\n",
      "\n",
      "avg / total       0.82      0.82      0.82     12000\n",
      "\n"
     ]
    }
   ],
   "source": [
    "print(classification_report( Y_test_data,prediction3))"
   ]
  },
  {
   "cell_type": "code",
   "execution_count": 66,
   "metadata": {},
   "outputs": [
    {
     "data": {
      "image/png": "[encoded data removed]",
      "text/plain": [
       "<Figure size 432x288 with 2 Axes>"
      ]
     },
     "metadata": {},
     "output_type": "display_data"
    }
   ],
   "source": [
    "cm = confusion_matrix(Y_test_data ,prediction3)\n",
    "label = ['negative', 'positive']\n",
    "df_conf = pd.DataFrame(cm, index = label, columns = label)\n",
    "sns.heatmap(df_conf, annot = True, fmt = \"d\")\n",
    "plt.title(\"Confusiion Matrix\")\n",
    "plt.xlabel(\"Predicted Label\")\n",
    "plt.ylabel(\"True Label\")\n",
    "plt.show()"
   ]
  },
  {
   "cell_type": "code",
   "execution_count": 67,
   "metadata": {},
   "outputs": [],
   "source": [
    "models_performence1['Model'].append('Logistic Regression')\n",
    "models_performence1['Vectorizer'].append('BOW')\n",
    "models_performence1['SearchCV'].append(SearchCV)\n",
    "models_performence1['Best penalty'].append(best_panalty)\n",
    "models_performence1[ 'Optimal lambda'].append(lambdax)\n",
    "models_performence1['Training error'].append(training_error*100)\n",
    "models_performence1[ 'Test error'].append(Testing_error*100)\n",
    "models_performence1[ 'Accuracy'].append(Testing_score)\n",
    "models_performence1[ 'F1'].append(F1_score)\n",
    "models_performence1['recall'].append(recall)\n",
    "models_performence1[ 'precision'].append(precision)\n"
   ]
  },
  {
   "cell_type": "code",
   "execution_count": 68,
   "metadata": {
    "scrolled": false
   },
   "outputs": [],
   "source": [
    "columns = [\"Model\",\"Vectorizer\",\"SearchCV\", \"Best penalty\",\"Optimal lambda\", \"Training error\",  \"Test error\",\n",
    "            \"Accuracy\",\"F1\",\"recall\",\"precision\",\n",
    "          ]\n",
    "df4=pd.DataFrame(models_performence1, columns=columns)"
   ]
  },
  {
   "cell_type": "code",
   "execution_count": 69,
   "metadata": {},
   "outputs": [
    {
     "name": "stdout",
     "output_type": "stream",
     "text": [
      "|       Model       |Vectorizer|   SearchCV   |Best penalty|Optimal lambda|Training error|Test error|Accuracy| F1  |recall|precision|\n",
      "|-------------------|----------|--------------|------------|-------------:|-------------:|---------:|-------:|----:|-----:|--------:|\n",
      "|Logistic Regression|BoW       |GridSearchCV  |l2          |         1.000|        0.0000|     19.84|  0.8016|76.97| 76.52|    77.52|\n",
      "|Logistic Regression|BOW       |RandomsearchCV|l2          |         0.004|        0.4469|     15.40|  0.8460|81.63| 80.40|    83.53|\n",
      "|Logistic Regression|BOW       |GridSearchCV  |l1          |         1.000|        0.0251|     17.92|  0.8207|79.29| 78.92|    79.71|\n",
      "\n"
     ]
    }
   ],
   "source": [
    "result_display(df4)"
   ]
  },
  {
   "cell_type": "markdown",
   "metadata": {},
   "source": [
    "|       Model       |Vectorizer|   SearchCV   |Best penalty|Optimal lambda|Training error|Test error|Accuracy| F1  |recall|precision|\n",
    "|-------------------|----------|--------------|------------|-------------:|-------------:|---------:|-------:|----:|-----:|--------:|\n",
    "|Logistic Regression|BoW       |GridSearchCV  |l2          |         1.000|        0.0000|     19.84|  0.8016|76.97| 76.52|    77.52|\n",
    "|Logistic Regression|BOW       |RandomsearchCV|l2          |         0.004|        0.4469|     15.40|  0.8460|81.63| 80.40|    83.53|\n",
    "|Logistic Regression|BOW       |GridSearchCV  |l1          |         1.000|        0.0251|     17.92|  0.8207|79.29| 78.92|    79.71|"
   ]
  },
  {
   "cell_type": "markdown",
   "metadata": {},
   "source": [
    "## RandomsearchCV with L1 regularization (BOW)"
   ]
  },
  {
   "cell_type": "code",
   "execution_count": 70,
   "metadata": {},
   "outputs": [
    {
     "name": "stdout",
     "output_type": "stream",
     "text": [
      "Model                Logistic Regression\n",
      "Vectorizer                           BOW\n",
      "SearchCV                  RandomsearchCV\n",
      "Scoring Metrics                   recall\n",
      "Train_model_score               0.998343\n",
      "Test_model_score                0.893276\n",
      "best panalty                          l1\n",
      "Best lambda                     0.349364\n",
      "Name: 5, dtype: object\n"
     ]
    }
   ],
   "source": [
    "#RandomsearchCV\n",
    "\n",
    "zx=df[df['best panalty'] == 'l1']\n",
    "zx=zx[zx['SearchCV']=='RandomsearchCV']\n",
    "zx= zx.ix[zx['Test_model_score'].idxmax()]\n",
    "print(zx)\n",
    "lambdax=zx['Best lambda']\n",
    "\n",
    "best_panalty=zx['best panalty']\n",
    "\n",
    "Scoring_Metrics =zx['Scoring Metrics']\n",
    "SearchCV=zx['SearchCV']\n",
    "#print(SearchCV)"
   ]
  },
  {
   "cell_type": "code",
   "execution_count": 71,
   "metadata": {},
   "outputs": [],
   "source": [
    "#Best lambda and best penalty\n",
    "C1 = uniform(loc=0, scale=lambdax)\n",
    "hp4=dict(C=C1, penalty=[best_panalty])\n",
    "LR4 =RandomizedSearchCV(LogisticRegression(), hp2, scoring =Scoring_Metrics, cv=tscv)\n",
    "LR4.fit(final_data ,Train_data)\n",
    "\n",
    "prediction4 = LR4.predict(final_data_test)\n",
    "lambda_new=LR4.best_params_['C']"
   ]
  },
  {
   "cell_type": "code",
   "execution_count": 72,
   "metadata": {},
   "outputs": [
    {
     "name": "stdout",
     "output_type": "stream",
     "text": [
      "training accuracy= 0.991765414741916\n",
      "training error is = 0.00823458525808396\n"
     ]
    }
   ],
   "source": [
    "#Training accuracy and training error\n",
    "training_score=LR4.score(final_data,Train_data)\n",
    "print('training accuracy=',training_score)\n",
    "training_error=1-training_score\n",
    "print('training error is =',training_error)"
   ]
  },
  {
   "cell_type": "code",
   "execution_count": 73,
   "metadata": {},
   "outputs": [
    {
     "name": "stdout",
     "output_type": "stream",
     "text": [
      "Accuracy for Logistic Regression model with Bag of words is =  0.8505\n",
      "Testing error for Logistic Regression model with Bag of words is =  0.14949999999999997\n"
     ]
    }
   ],
   "source": [
    "# Testing Accuracy and testing error for LogisticRegression model\n",
    "Testing_score=round(accuracy_score(Y_test_data ,prediction4),5)\n",
    "print(\"Accuracy for Logistic Regression model with Bag of words is = \",Testing_score)\n",
    "Testing_error=1-Testing_score\n",
    "print(\"Testing error for Logistic Regression model with Bag of words is = \",Testing_error)"
   ]
  },
  {
   "cell_type": "code",
   "execution_count": 74,
   "metadata": {},
   "outputs": [],
   "source": [
    "F1_score = round(f1_score(Y_test_data ,prediction4,average='macro'),5)*100\n",
    "recall = round(recall_score(Y_test_data,prediction4,average='macro'),5)*100\n",
    "precision = round(precision_score(Y_test_data ,prediction4,average='macro'),5)*100"
   ]
  },
  {
   "cell_type": "code",
   "execution_count": 75,
   "metadata": {},
   "outputs": [
    {
     "name": "stdout",
     "output_type": "stream",
     "text": [
      "             precision    recall  f1-score   support\n",
      "\n",
      "          0       0.85      0.65      0.74      3895\n",
      "          1       0.85      0.95      0.90      8105\n",
      "\n",
      "avg / total       0.85      0.85      0.84     12000\n",
      "\n"
     ]
    }
   ],
   "source": [
    "print(classification_report( Y_test_data,prediction4))"
   ]
  },
  {
   "cell_type": "code",
   "execution_count": 76,
   "metadata": {},
   "outputs": [
    {
     "data": {
      "image/png": "[encoded data removed]",
      "text/plain": [
       "<Figure size 432x288 with 2 Axes>"
      ]
     },
     "metadata": {},
     "output_type": "display_data"
    }
   ],
   "source": [
    "cm = confusion_matrix(Y_test_data ,prediction4)\n",
    "label = ['negative', 'positive']\n",
    "df_conf = pd.DataFrame(cm, index = label, columns = label)\n",
    "sns.heatmap(df_conf, annot = True, fmt = \"d\")\n",
    "plt.title(\"Confusiion Matrix\")\n",
    "plt.xlabel(\"Predicted Label\")\n",
    "plt.ylabel(\"True Label\")\n",
    "plt.show()"
   ]
  },
  {
   "cell_type": "code",
   "execution_count": 77,
   "metadata": {},
   "outputs": [],
   "source": [
    "models_performence1['Model'].append('Logistic Regression')\n",
    "models_performence1['Vectorizer'].append('BOW')\n",
    "models_performence1['SearchCV'].append(SearchCV)\n",
    "models_performence1['Best penalty'].append(best_panalty)\n",
    "models_performence1[ 'Optimal lambda'].append(lambda_new)\n",
    "models_performence1['Training error'].append(training_error*100)\n",
    "models_performence1[ 'Test error'].append(Testing_error*100)\n",
    "models_performence1[ 'Accuracy'].append(Testing_score)\n",
    "models_performence1[ 'F1'].append(F1_score)\n",
    "models_performence1['recall'].append(recall)\n",
    "models_performence1[ 'precision'].append(precision)"
   ]
  },
  {
   "cell_type": "code",
   "execution_count": 78,
   "metadata": {
    "scrolled": false
   },
   "outputs": [],
   "source": [
    "columns = [\"Model\",\"Vectorizer\",\"SearchCV\", \"Best penalty\",\"Optimal lambda\", \"Training error\",  \"Test error\",\n",
    "            \"Accuracy\",\"F1\",\"recall\",\"precision\",\n",
    "          ]\n",
    "df5=pd.DataFrame(models_performence1, columns=columns)"
   ]
  },
  {
   "cell_type": "code",
   "execution_count": 79,
   "metadata": {},
   "outputs": [
    {
     "name": "stdout",
     "output_type": "stream",
     "text": [
      "|       Model       |Vectorizer|   SearchCV   |Best penalty|Optimal lambda|Training error|Test error|Accuracy| F1  |recall|precision|\n",
      "|-------------------|----------|--------------|------------|-------------:|-------------:|---------:|-------:|----:|-----:|--------:|\n",
      "|Logistic Regression|BoW       |GridSearchCV  |l2          |        1.0000|       0.00000|     19.84|  0.8016|76.97| 76.52|    77.52|\n",
      "|Logistic Regression|BOW       |RandomsearchCV|l2          |        0.0042|       0.44688|     15.40|  0.8460|81.63| 80.40|    83.53|\n",
      "|Logistic Regression|BOW       |GridSearchCV  |l1          |        1.0000|       0.02511|     17.92|  0.8207|79.29| 78.92|    79.71|\n",
      "|Logistic Regression|BOW       |RandomsearchCV|l1          |        0.0005|       0.82346|     14.95|  0.8505|81.71| 79.89|    85.13|\n",
      "\n"
     ]
    }
   ],
   "source": [
    "result_display(df5)"
   ]
  },
  {
   "cell_type": "markdown",
   "metadata": {},
   "source": [
    "|       Model       |Vectorizer|   SearchCV   |Best penalty|Optimal lambda|Training error|Test error|Accuracy| F1  |recall|precision|\n",
    "|-------------------|----------|--------------|------------|-------------:|-------------:|---------:|-------:|----:|-----:|--------:|\n",
    "|Logistic Regression|BoW       |GridSearchCV  |l2          |        1.0000|       0.00000|     19.84|  0.8016|76.97| 76.52|    77.52|\n",
    "|Logistic Regression|BOW       |RandomsearchCV|l2          |        0.0042|       0.44688|     15.40|  0.8460|81.63| 80.40|    83.53|\n",
    "|Logistic Regression|BOW       |GridSearchCV  |l1          |        1.0000|       0.02511|     17.92|  0.8207|79.29| 78.92|    79.71|\n",
    "|Logistic Regression|BOW       |RandomsearchCV|l1          |        0.0005|       0.82346|     14.95|  0.8505|81.71| 79.89|    85.13|\n"
   ]
  },
  {
   "cell_type": "markdown",
   "metadata": {},
   "source": [
    "#### Dumping & Loading models_performence1 obtained by BOW"
   ]
  },
  {
   "cell_type": "code",
   "execution_count": 80,
   "metadata": {},
   "outputs": [],
   "source": [
    "pickle_path_BOW_final_result='optimal_lambda_BOW_final_result.pkl'\n",
    "optimal_lambda_BOW_final_result1=open(pickle_path_BOW_final_result,'wb')\n",
    "pickle.dump(models_performence1,optimal_lambda_BOW_final_result1)\n",
    "optimal_lambda_BOW_final_result1.close()"
   ]
  },
  {
   "cell_type": "code",
   "execution_count": 81,
   "metadata": {},
   "outputs": [],
   "source": [
    "pickle_path_BOW_final_result='optimal_lambda_BOW_final_result.pkl'\n",
    "unpickle_path_final=open(pickle_path_BOW_final_result,'rb')\n",
    "models_performence122=pickle.load(unpickle_path_final)"
   ]
  },
  {
   "cell_type": "markdown",
   "metadata": {},
   "source": [
    "### Observations:\n",
    "* Logistic Regression with BOW using GridsearchCV & RandomSearchCV for L1 & L2 regularization techniques is used to get optimal lambda .\n",
    "* Scoring metrics's values is good for Optimal Penalty l2 & randomsearchCV \n",
    "* Training error is minimum here but test error is high compartively with training error. "
   ]
  },
  {
   "cell_type": "markdown",
   "metadata": {},
   "source": [
    "# 2. tf-idf\n"
   ]
  },
  {
   "cell_type": "code",
   "execution_count": 82,
   "metadata": {},
   "outputs": [],
   "source": [
    "##### TF-IDF for Training data"
   ]
  },
  {
   "cell_type": "code",
   "execution_count": 83,
   "metadata": {},
   "outputs": [
    {
     "data": {
      "text/html": [
       "<div>\n",
       "<style scoped>\n",
       "    .dataframe tbody tr th:only-of-type {\n",
       "        vertical-align: middle;\n",
       "    }\n",
       "\n",
       "    .dataframe tbody tr th {\n",
       "        vertical-align: top;\n",
       "    }\n",
       "\n",
       "    .dataframe thead th {\n",
       "        text-align: right;\n",
       "    }\n",
       "</style>\n",
       "<table border=\"1\" class=\"dataframe\">\n",
       "  <thead>\n",
       "    <tr style=\"text-align: right;\">\n",
       "      <th></th>\n",
       "      <th>Model</th>\n",
       "      <th>Vectorizer</th>\n",
       "      <th>SearchCV</th>\n",
       "      <th>Scoring Metrics</th>\n",
       "      <th>Train_model_score</th>\n",
       "      <th>Test_model_score</th>\n",
       "      <th>best panalty</th>\n",
       "      <th>Best lambda</th>\n",
       "    </tr>\n",
       "  </thead>\n",
       "  <tbody>\n",
       "  </tbody>\n",
       "</table>\n",
       "</div>"
      ],
      "text/plain": [
       "Empty DataFrame\n",
       "Columns: [Model, Vectorizer, SearchCV, Scoring Metrics, Train_model_score, Test_model_score, best panalty, Best lambda]\n",
       "Index: []"
      ]
     },
     "execution_count": 83,
     "metadata": {},
     "output_type": "execute_result"
    }
   ],
   "source": [
    "models_performence = {\n",
    "    'Model':[],\n",
    "    'Vectorizer': [],\n",
    "    'SearchCV':[],\n",
    "    'Scoring Metrics': [],\n",
    "    'Train_model_score': [],\n",
    "    'Test_model_score': [],\n",
    "    'best panalty': [],\n",
    "    'Best lambda':[],\n",
    "}\n",
    "\n",
    "columns = [\"Model\",\"Vectorizer\",\"SearchCV\", \"Scoring Metrics\",\"Train_model_score\",\"Test_model_score\", \"best panalty\",\"Best lambda\"]\n",
    "pd.DataFrame(models_performence, columns=columns)\n",
    "     \n",
    "   "
   ]
  },
  {
   "cell_type": "code",
   "execution_count": 18,
   "metadata": {},
   "outputs": [
    {
     "data": {
      "text/plain": [
       "(28000, 530093)"
      ]
     },
     "execution_count": 18,
     "metadata": {},
     "output_type": "execute_result"
    }
   ],
   "source": [
    "\n",
    "tf_idf_vect = TfidfVectorizer(ngram_range=(1,2))\n",
    "final_tf_idf = tf_idf_vect.fit_transform(X_train_data.values.astype('U').ravel())\n",
    "final_tf_idf.get_shape()"
   ]
  },
  {
   "cell_type": "code",
   "execution_count": 19,
   "metadata": {},
   "outputs": [
    {
     "data": {
      "text/plain": [
       "530093"
      ]
     },
     "execution_count": 19,
     "metadata": {},
     "output_type": "execute_result"
    }
   ],
   "source": [
    "features = tf_idf_vect.get_feature_names()\n",
    "len(features)"
   ]
  },
  {
   "cell_type": "code",
   "execution_count": 21,
   "metadata": {},
   "outputs": [],
   "source": [
    "final_tfidf_np = StandardScaler(with_mean=False).fit_transform(final_tf_idf )"
   ]
  },
  {
   "cell_type": "markdown",
   "metadata": {},
   "source": [
    "#### Dumping & Loading Pickle file for training data (TF-IDF)"
   ]
  },
  {
   "cell_type": "code",
   "execution_count": 26,
   "metadata": {},
   "outputs": [],
   "source": [
    "pickle_path_tfidf_train='X_train_data_tfidf.pkl'\n",
    "X_train_data_tfidf=open(pickle_path_tfidf_train,'wb')\n",
    "pickle.dump(final_tfidf_np ,X_train_data_tfidf)\n",
    "X_train_data_tfidf.close()"
   ]
  },
  {
   "cell_type": "code",
   "execution_count": 27,
   "metadata": {},
   "outputs": [],
   "source": [
    "pickle_path_tfidf_train='X_train_data_tfidf.pkl'\n",
    "unpickle_path5=open(pickle_path_tfidf_train,'rb')\n",
    "final_tfidf_np=pickle.load(unpickle_path5)"
   ]
  },
  {
   "cell_type": "markdown",
   "metadata": {},
   "source": [
    "##### tf-idf For Testing datasets "
   ]
  },
  {
   "cell_type": "code",
   "execution_count": 22,
   "metadata": {},
   "outputs": [
    {
     "data": {
      "text/plain": [
       "(12000, 530093)"
      ]
     },
     "execution_count": 22,
     "metadata": {},
     "output_type": "execute_result"
    }
   ],
   "source": [
    "final_tf_idf_test = tf_idf_vect.transform(X_test_data.values.astype('U').ravel())\n",
    "final_tf_idf_test.get_shape()"
   ]
  },
  {
   "cell_type": "code",
   "execution_count": 23,
   "metadata": {},
   "outputs": [],
   "source": [
    "final_tfidf_np_test = StandardScaler(with_mean=False).fit_transform(final_tf_idf_test )"
   ]
  },
  {
   "cell_type": "markdown",
   "metadata": {},
   "source": [
    "#### Dumping & Loading Pickle file for testing data(TF-IDF)"
   ]
  },
  {
   "cell_type": "code",
   "execution_count": 30,
   "metadata": {},
   "outputs": [],
   "source": [
    "\n",
    "pickle_path_tfidf_test='X_test_data_tfidf.pkl'\n",
    "X_test_data_tfidf=open(pickle_path_tfidf_test,'wb')\n",
    "pickle.dump(final_tfidf_np_test ,X_test_data_tfidf)\n",
    "X_test_data_tfidf.close()"
   ]
  },
  {
   "cell_type": "code",
   "execution_count": 31,
   "metadata": {},
   "outputs": [],
   "source": [
    "pickle_path_tfidf_test='X_test_data_tfidf.pkl'\n",
    "unpickle_path6=open(pickle_path_tfidf_test,'rb')\n",
    "final_tfidf_np_test=pickle.load(unpickle_path6)"
   ]
  },
  {
   "cell_type": "code",
   "execution_count": 93,
   "metadata": {},
   "outputs": [],
   "source": [
    "vectorization='TF-IDF'\n",
    "optimal_lambda = lambda_LR(final_tfidf_np ,Train_data,final_tfidf_np_test,Y_test_data,vectorization)"
   ]
  },
  {
   "cell_type": "code",
   "execution_count": 94,
   "metadata": {},
   "outputs": [],
   "source": [
    "vectorization='TF-IDF'\n",
    "optimal_lambda = lambda_LR1(final_tfidf_np ,Train_data,final_tfidf_np_test,Y_test_data,vectorization)"
   ]
  },
  {
   "cell_type": "code",
   "execution_count": 95,
   "metadata": {},
   "outputs": [],
   "source": [
    "pickle_path_tfidf_lambda='optimal_lambda_tfidf.pkl'\n",
    "optimal_lambda_tfidf=open(pickle_path_tfidf_lambda,'wb')\n",
    "pickle.dump(models_performence,optimal_lambda_tfidf)\n",
    "optimal_lambda_tfidf.close()\n"
   ]
  },
  {
   "cell_type": "code",
   "execution_count": 96,
   "metadata": {},
   "outputs": [],
   "source": [
    "pickle_path_tfidf_lambda='optimal_lambda_tfidf.pkl'\n",
    "unpickle_path232=open(pickle_path_tfidf_lambda,'rb')\n",
    "models_performence232=pickle.load(unpickle_path232)"
   ]
  },
  {
   "cell_type": "code",
   "execution_count": 97,
   "metadata": {},
   "outputs": [],
   "source": [
    "columns = [\"Model\",\"Vectorizer\",\"SearchCV\", \"Scoring Metrics\",\"Train_model_score\",\"Test_model_score\", \"best panalty\",\"Best lambda\"]\n",
    "df6=pd.DataFrame(models_performence232, columns=columns)"
   ]
  },
  {
   "cell_type": "code",
   "execution_count": 98,
   "metadata": {},
   "outputs": [
    {
     "name": "stdout",
     "output_type": "stream",
     "text": [
      "|       Model       |Vectorizer|   SearchCV   |Scoring Metrics|Train_model_score|Test_model_score|best panalty|Best lambda|\n",
      "|-------------------|----------|--------------|---------------|----------------:|---------------:|------------|----------:|\n",
      "|Logistic Regression|TF-IDF    |GridSearchCV  |accuracy       |                1|          0.8667|l1          |     2.7826|\n",
      "|Logistic Regression|TF-IDF    |RandomsearchCV|accuracy       |                1|          0.8654|l1          |     3.9285|\n",
      "|Logistic Regression|TF-IDF    |GridSearchCV  |precision      |                1|          0.8669|l1          |     2.7826|\n",
      "|Logistic Regression|TF-IDF    |RandomsearchCV|precision      |                1|          0.8673|l1          |     2.4854|\n",
      "|Logistic Regression|TF-IDF    |GridSearchCV  |recall         |                1|          0.9662|l1          |    59.9484|\n",
      "|Logistic Regression|TF-IDF    |RandomsearchCV|recall         |                1|          0.9477|l1          |     2.9219|\n",
      "|Logistic Regression|TF-IDF    |GridSearchCV  |f1             |                1|          0.9057|l1          |     2.7826|\n",
      "|Logistic Regression|TF-IDF    |RandomsearchCV|f1             |                1|          0.9044|l1          |     2.6000|\n",
      "|Logistic Regression|TF-IDF    |GridSearchCV  |accuracy       |                1|          0.8247|l2          | 10000.0000|\n",
      "|Logistic Regression|TF-IDF    |RandomsearchCV|accuracy       |                1|          0.8225|l2          |     3.8382|\n",
      "|Logistic Regression|TF-IDF    |GridSearchCV  |precision      |                1|          0.8060|l2          | 10000.0000|\n",
      "|Logistic Regression|TF-IDF    |RandomsearchCV|precision      |                1|          0.8028|l2          |     3.5410|\n",
      "|Logistic Regression|TF-IDF    |GridSearchCV  |recall         |                1|          0.9771|l2          |     1.0000|\n",
      "|Logistic Regression|TF-IDF    |RandomsearchCV|recall         |                1|          0.9798|l2          |     0.0122|\n",
      "|Logistic Regression|TF-IDF    |GridSearchCV  |f1             |                1|          0.8825|l2          | 10000.0000|\n",
      "|Logistic Regression|TF-IDF    |RandomsearchCV|f1             |                1|          0.8812|l2          |     3.9405|\n",
      "\n"
     ]
    }
   ],
   "source": [
    "result_display(df6)"
   ]
  },
  {
   "cell_type": "markdown",
   "metadata": {},
   "source": [
    "|       Model       |Vectorizer|   SearchCV   |Scoring Metrics|Train_model_score|Test_model_score|best panalty|Best lambda|\n",
    "|-------------------|----------|--------------|---------------|----------------:|---------------:|------------|----------:|\n",
    "|Logistic Regression|TF-IDF    |GridSearchCV  |accuracy       |                1|          0.8667|l1          |     2.7826|\n",
    "|Logistic Regression|TF-IDF    |RandomsearchCV|accuracy       |                1|          0.8654|l1          |     3.9285|\n",
    "|Logistic Regression|TF-IDF    |GridSearchCV  |precision      |                1|          0.8669|l1          |     2.7826|\n",
    "|Logistic Regression|TF-IDF    |RandomsearchCV|precision      |                1|          0.8673|l1          |     2.4854|\n",
    "|Logistic Regression|TF-IDF    |GridSearchCV  |recall         |                1|          0.9662|l1          |    59.9484|\n",
    "|Logistic Regression|TF-IDF    |RandomsearchCV|recall         |                1|          0.9477|l1          |     2.9219|\n",
    "|Logistic Regression|TF-IDF    |GridSearchCV  |f1             |                1|          0.9057|l1          |     2.7826|\n",
    "|Logistic Regression|TF-IDF    |RandomsearchCV|f1             |                1|          0.9044|l1          |     2.6000|\n",
    "|Logistic Regression|TF-IDF    |GridSearchCV  |accuracy       |                1|          0.8247|l2          | 10000.0000|\n",
    "|Logistic Regression|TF-IDF    |RandomsearchCV|accuracy       |                1|          0.8225|l2          |     3.8382|\n",
    "|Logistic Regression|TF-IDF    |GridSearchCV  |precision      |                1|          0.8060|l2          | 10000.0000|\n",
    "|Logistic Regression|TF-IDF    |RandomsearchCV|precision      |                1|          0.8028|l2          |     3.5410|\n",
    "|Logistic Regression|TF-IDF    |GridSearchCV  |recall         |                1|          0.9771|l2          |     1.0000|\n",
    "|Logistic Regression|TF-IDF    |RandomsearchCV|recall         |                1|          0.9798|l2          |     0.0122|\n",
    "|Logistic Regression|TF-IDF    |GridSearchCV  |f1             |                1|          0.8825|l2          | 10000.0000|\n",
    "|Logistic Regression|TF-IDF    |RandomsearchCV|f1             |                1|          0.8812|l2          |     3.9405|"
   ]
  },
  {
   "cell_type": "markdown",
   "metadata": {},
   "source": [
    "Above table shows the Performance of Logistic Regression using TF-IDF for various Cross-validation techniques,scoring techniques . "
   ]
  },
  {
   "cell_type": "markdown",
   "metadata": {},
   "source": [
    "# L1 Regularization\n",
    "#####  Increase lambda hyperparameter to generate sparcity in dataset."
   ]
  },
  {
   "cell_type": "code",
   "execution_count": 99,
   "metadata": {},
   "outputs": [
    {
     "name": "stdout",
     "output_type": "stream",
     "text": [
      "\n",
      "The optimal number of lambda is 0.\n"
     ]
    },
    {
     "data": {
      "image/png": "[encoded data removed]",
      "text/plain": [
       "<Figure size 1080x576 with 1 Axes>"
      ]
     },
     "metadata": {},
     "output_type": "display_data"
    },
    {
     "name": "stdout",
     "output_type": "stream",
     "text": [
      "the misclassification error for each lambda_Value is :  [0.675 0.675 0.675 0.675 0.675 0.675 0.675 0.675 0.675 0.675 0.675 0.675\n",
      " 0.675 0.675 0.675 0.675 0.139 0.15  0.189 0.191 0.191 0.184 0.188 0.189\n",
      " 0.189 0.193 0.19  0.185 0.194 0.19  0.19  0.192 0.191 0.19  0.185 0.187\n",
      " 0.192 0.188 0.188 0.189 0.19  0.19  0.188 0.188 0.192 0.188 0.195 0.189\n",
      " 0.194 0.182]\n",
      "Sparsity == [0, 0, 0, 0, 0, 0, 0, 0, 0, 0, 0, 0, 0, 0, 0, 0, 20775, 129532, 522482, 529286, 529282, 529288, 529287, 529286, 529291, 529291, 529285, 529287, 529294, 529290, 529289, 529287, 529288, 529290, 529286, 529289, 529287, 529288, 529285, 529289, 529287, 529290, 529286, 529292, 529288, 529289, 529287, 529286, 529283, 529292]\n"
     ]
    }
   ],
   "source": [
    "C2 = np.logspace(-50, 100, 50)\n",
    "hp2= list(C2)\n",
    "socore=[]\n",
    "Sparsity=[]\n",
    "\n",
    "for vect_data in range(len(hp2)):\n",
    "    r=hp2[vect_data]\n",
    "    clf = LogisticRegression(C=r, penalty='l1')\n",
    "    clf.fit(final_tfidf_np ,Train_data)\n",
    "    w1 = clf.coef_\n",
    "    #print(np.count_nonzero(w1))\n",
    "    Sparsity.append(np.count_nonzero(w1))\n",
    "    w = clf.coef_.ravel()\n",
    "    model_score=clf.score(final_tfidf_np_test,Y_test_data)\n",
    "    socore.append(model_score)\n",
    "\n",
    "MSE = [1 - x for x in socore]\n",
    "global optimal_k\n",
    "optimal_k = hp2[MSE.index(min(MSE))]\n",
    "print('\\nThe optimal number of lambda is %d.' % optimal_k)\n",
    "\n",
    "\n",
    "\n",
    "  # plot misclassification error vs k \n",
    "plt.figure(figsize=(15,8))\n",
    "plt.plot(hp2, MSE)\n",
    "plt.grid()\n",
    "#for xy in zip(hp2, np.round(MSE,3)):\n",
    "#    plt.annotate('(%s, %s)' % xy, xy=xy, textcoords='data')\n",
    "plt.title('Error_Rate vs. lambda_Value')\n",
    "plt.xlabel('Number of lambda')\n",
    "plt.ylabel('Misclassification Error')\n",
    "plt.show()\n",
    "\n",
    "print(\"the misclassification error for each lambda_Value is : \", np.round(MSE,3))\n",
    "\n",
    "#print(socore)\n",
    "print('Sparsity ==',Sparsity)"
   ]
  },
  {
   "cell_type": "code",
   "execution_count": 100,
   "metadata": {},
   "outputs": [],
   "source": [
    "df2=pd.DataFrame(models_performence232, columns=columns)\n",
    "#print(df2)"
   ]
  },
  {
   "cell_type": "markdown",
   "metadata": {},
   "source": [
    "## RandomsearchCV with L2 regularization (Tf-IDf)"
   ]
  },
  {
   "cell_type": "code",
   "execution_count": 101,
   "metadata": {},
   "outputs": [
    {
     "name": "stdout",
     "output_type": "stream",
     "text": [
      "Model                Logistic Regression\n",
      "Vectorizer                        TF-IDF\n",
      "SearchCV                  RandomsearchCV\n",
      "Scoring Metrics                   recall\n",
      "Train_model_score                      1\n",
      "Test_model_score                0.979766\n",
      "best panalty                          l2\n",
      "Best lambda                    0.0122481\n",
      "Name: 13, dtype: object\n"
     ]
    }
   ],
   "source": [
    "#L2 regularization\n",
    "\n",
    "zx=df2[df2['best panalty'] == 'l2']\n",
    "\n",
    "zx=zx[zx['SearchCV']=='RandomsearchCV']\n",
    "\n",
    "zx= zx.ix[zx['Test_model_score'].idxmax()]\n",
    "print(zx)\n",
    "lambdax=zx['Best lambda']\n",
    "\n",
    "best_panalty=zx['best panalty']\n",
    "\n",
    "Scoring_Metrics =zx['Scoring Metrics']\n",
    "SearchCV=zx['SearchCV']"
   ]
  },
  {
   "cell_type": "code",
   "execution_count": 102,
   "metadata": {},
   "outputs": [],
   "source": [
    "#Best lambda and best penalty\n",
    "C1 = uniform(loc=0, scale=lambdax)\n",
    "hp5=dict(C=C1, penalty=[best_panalty])\n",
    "LR5 =RandomizedSearchCV(LogisticRegression(), hp5, scoring =Scoring_Metrics, cv=tscv)\n",
    "LR5.fit(final_data ,Train_data)\n",
    "\n",
    "prediction5 = LR5.predict(final_data_test)\n",
    "lambda_new=LR5.best_params_['C']"
   ]
  },
  {
   "cell_type": "code",
   "execution_count": 103,
   "metadata": {},
   "outputs": [
    {
     "name": "stdout",
     "output_type": "stream",
     "text": [
      "training accuracy= 0.991564571199036\n",
      "training error is = 0.00843542880096404\n"
     ]
    }
   ],
   "source": [
    "#Training accuracy and training error\n",
    "training_score=LR5.score(final_data,Train_data)\n",
    "print('training accuracy=',training_score)\n",
    "training_error=1-training_score\n",
    "print('training error is =',training_error)"
   ]
  },
  {
   "cell_type": "code",
   "execution_count": 104,
   "metadata": {},
   "outputs": [
    {
     "name": "stdout",
     "output_type": "stream",
     "text": [
      "Accuracy for Logistic Regression model with Avg word2vec is =  0.84908\n",
      "Testing error for Logistic Regression model with Avg word2vec is =  0.15092000000000005\n"
     ]
    }
   ],
   "source": [
    "# Testing Accuracy and testing error for knn model\n",
    "\n",
    "Testing_score=round(accuracy_score(Y_test_data ,prediction5),5)\n",
    "print(\"Accuracy for Logistic Regression model with Avg word2vec is = \",Testing_score)\n",
    "Testing_error=1-Testing_score\n",
    "print(\"Testing error for Logistic Regression model with Avg word2vec is = \",Testing_error)"
   ]
  },
  {
   "cell_type": "code",
   "execution_count": 105,
   "metadata": {},
   "outputs": [],
   "source": [
    "F1_score = round(f1_score(Y_test_data ,prediction5,average='macro'),5)*100\n",
    "recall = round(recall_score(Y_test_data,prediction5,average='macro'),5)*100\n",
    "precision = round(precision_score(Y_test_data ,prediction5,average='macro'),5)*100"
   ]
  },
  {
   "cell_type": "code",
   "execution_count": 106,
   "metadata": {},
   "outputs": [
    {
     "name": "stdout",
     "output_type": "stream",
     "text": [
      "             precision    recall  f1-score   support\n",
      "\n",
      "          0       0.86      0.64      0.73      3895\n",
      "          1       0.85      0.95      0.89      8105\n",
      "\n",
      "avg / total       0.85      0.85      0.84     12000\n",
      "\n"
     ]
    }
   ],
   "source": [
    "print(classification_report( Y_test_data,prediction5))"
   ]
  },
  {
   "cell_type": "code",
   "execution_count": 107,
   "metadata": {},
   "outputs": [
    {
     "data": {
      "image/png": "[encoded data removed]",
      "text/plain": [
       "<Figure size 432x288 with 2 Axes>"
      ]
     },
     "metadata": {},
     "output_type": "display_data"
    }
   ],
   "source": [
    "cm = confusion_matrix(Y_test_data ,prediction5)\n",
    "label = ['negative', 'positive']\n",
    "df_conf = pd.DataFrame(cm, index = label, columns = label)\n",
    "sns.heatmap(df_conf, annot = True, fmt = \"d\")\n",
    "plt.title(\"Confusiion Matrix\")\n",
    "plt.xlabel(\"Predicted Label\")\n",
    "plt.ylabel(\"True Label\")\n",
    "plt.show()"
   ]
  },
  {
   "cell_type": "code",
   "execution_count": 108,
   "metadata": {},
   "outputs": [],
   "source": [
    "models_performence1['Model'].append('Logistic Regression')\n",
    "models_performence1['Vectorizer'].append('TF-IDF')\n",
    "models_performence1['SearchCV'].append(SearchCV)\n",
    "models_performence1['Best penalty'].append(best_panalty)\n",
    "models_performence1[ 'Optimal lambda'].append(lambda_new)\n",
    "models_performence1['Training error'].append(training_error*100)\n",
    "models_performence1[ 'Test error'].append(Testing_error*100)\n",
    "models_performence1[ 'Accuracy'].append(Testing_score)\n",
    "models_performence1[ 'F1'].append(F1_score)\n",
    "models_performence1['recall'].append(recall)\n",
    "models_performence1[ 'precision'].append(precision)"
   ]
  },
  {
   "cell_type": "code",
   "execution_count": 109,
   "metadata": {},
   "outputs": [],
   "source": [
    "columns = [\"Model\",\"Vectorizer\",\"SearchCV\", \"Best penalty\",\"Optimal lambda\", \"Training error\",  \"Test error\",\n",
    "            \"Accuracy\",\"F1\",\"recall\",\"precision\",\n",
    "          ]\n",
    "df7=pd.DataFrame(models_performence1, columns=columns)"
   ]
  },
  {
   "cell_type": "code",
   "execution_count": 110,
   "metadata": {},
   "outputs": [
    {
     "name": "stdout",
     "output_type": "stream",
     "text": [
      "|       Model       |Vectorizer|   SearchCV   |Best penalty|Optimal lambda|Training error|Test error|Accuracy| F1  |recall|precision|\n",
      "|-------------------|----------|--------------|------------|-------------:|-------------:|---------:|-------:|----:|-----:|--------:|\n",
      "|Logistic Regression|BoW       |GridSearchCV  |l2          |       1.00000|       0.00000|     19.84|  0.8016|76.97| 76.52|    77.52|\n",
      "|Logistic Regression|BOW       |RandomsearchCV|l2          |       0.00419|       0.44688|     15.40|  0.8460|81.63| 80.40|    83.53|\n",
      "|Logistic Regression|BOW       |GridSearchCV  |l1          |       1.00000|       0.02511|     17.92|  0.8207|79.29| 78.92|    79.71|\n",
      "|Logistic Regression|BOW       |RandomsearchCV|l1          |       0.00053|       0.82346|     14.95|  0.8505|81.71| 79.89|    85.13|\n",
      "|Logistic Regression|TF-IDF    |RandomsearchCV|l2          |       0.00041|       0.84354|     15.09|  0.8491|81.44| 79.54|    85.17|\n",
      "\n"
     ]
    }
   ],
   "source": [
    "result_display(df7)"
   ]
  },
  {
   "cell_type": "markdown",
   "metadata": {},
   "source": [
    "|       Model       |Vectorizer|   SearchCV   |Best penalty|Optimal lambda|Training error|Test error|Accuracy| F1  |recall|precision|\n",
    "|-------------------|----------|--------------|------------|-------------:|-------------:|---------:|-------:|----:|-----:|--------:|\n",
    "|Logistic Regression|BoW       |GridSearchCV  |l2          |       1.00000|       0.00000|     19.84|  0.8016|76.97| 76.52|    77.52|\n",
    "|Logistic Regression|BOW       |RandomsearchCV|l2          |       0.00419|       0.44688|     15.40|  0.8460|81.63| 80.40|    83.53|\n",
    "|Logistic Regression|BOW       |GridSearchCV  |l1          |       1.00000|       0.02511|     17.92|  0.8207|79.29| 78.92|    79.71|\n",
    "|Logistic Regression|BOW       |RandomsearchCV|l1          |       0.00053|       0.82346|     14.95|  0.8505|81.71| 79.89|    85.13|\n",
    "|Logistic Regression|TF-IDF    |RandomsearchCV|l2          |       0.00041|       0.84354|     15.09|  0.8491|81.44| 79.54|    85.17|"
   ]
  },
  {
   "cell_type": "markdown",
   "metadata": {},
   "source": [
    "## GridSearchCV with L2 regularization (Tf-IDf)"
   ]
  },
  {
   "cell_type": "code",
   "execution_count": 111,
   "metadata": {},
   "outputs": [
    {
     "name": "stdout",
     "output_type": "stream",
     "text": [
      "Model                Logistic Regression\n",
      "Vectorizer                           BOW\n",
      "SearchCV                    GridSearchCV\n",
      "Scoring Metrics                   recall\n",
      "Train_model_score                      1\n",
      "Test_model_score                0.868846\n",
      "best panalty                          l2\n",
      "Best lambda                            1\n",
      "Name: 12, dtype: object\n"
     ]
    }
   ],
   "source": [
    "zx=df[df['best panalty'] == 'l2']\n",
    "zx=zx[zx['SearchCV']=='GridSearchCV']\n",
    "zx= zx.ix[zx['Test_model_score'].idxmax()]\n",
    "print(zx)\n",
    "lambdax=zx['Best lambda']\n",
    "\n",
    "best_panalty=zx['best panalty']\n",
    "\n",
    "Scoring_Metrics =zx['Scoring Metrics']\n",
    "SearchCV=zx['SearchCV']"
   ]
  },
  {
   "cell_type": "code",
   "execution_count": 112,
   "metadata": {},
   "outputs": [],
   "source": [
    "#Best lambda and best penalty\n",
    "hp6=dict(C=[lambdax], penalty=[best_panalty])\n",
    "LR6 =GridSearchCV(LogisticRegression(), hp6, scoring =Scoring_Metrics, cv=tscv)\n",
    "\n",
    "LR6 .fit(final_tfidf_np ,Train_data)\n",
    "\n",
    "prediction6 = LR6.predict(final_tfidf_np_test)\n",
    "\n"
   ]
  },
  {
   "cell_type": "code",
   "execution_count": 113,
   "metadata": {},
   "outputs": [
    {
     "name": "stdout",
     "output_type": "stream",
     "text": [
      "training accuracy= 1.0\n",
      "training error is = 0.0\n"
     ]
    }
   ],
   "source": [
    "#Training accuracy and training error\n",
    "training_score=LR6.score(final_tfidf_np,Train_data)\n",
    "print('training accuracy=',training_score)\n",
    "training_error=1-training_score\n",
    "print('training error is =',training_error)"
   ]
  },
  {
   "cell_type": "code",
   "execution_count": 114,
   "metadata": {},
   "outputs": [
    {
     "name": "stdout",
     "output_type": "stream",
     "text": [
      "Accuracy for Logistic Regression model with Avg word2vec is =  0.8195\n",
      "Testing error for Logistic Regression model with Avg word2vec is =  0.1805\n"
     ]
    }
   ],
   "source": [
    "# Testing Accuracy and testing error for knn model\n",
    "\n",
    "Testing_score=round(accuracy_score(Y_test_data ,prediction6),5)\n",
    "print(\"Accuracy for Logistic Regression model with Avg word2vec is = \",Testing_score)\n",
    "Testing_error=1-Testing_score\n",
    "print(\"Testing error for Logistic Regression model with Avg word2vec is = \",Testing_error)"
   ]
  },
  {
   "cell_type": "code",
   "execution_count": 115,
   "metadata": {},
   "outputs": [],
   "source": [
    "F1_score = round(f1_score(Y_test_data ,prediction6,average='macro'),5)*100\n",
    "recall = round(recall_score(Y_test_data,prediction6,average='macro'),5)*100\n",
    "precision = round(precision_score(Y_test_data ,prediction6,average='macro'),5)*100"
   ]
  },
  {
   "cell_type": "code",
   "execution_count": 116,
   "metadata": {},
   "outputs": [
    {
     "name": "stdout",
     "output_type": "stream",
     "text": [
      "             precision    recall  f1-score   support\n",
      "\n",
      "          0       0.91      0.49      0.64      3895\n",
      "          1       0.80      0.98      0.88      8105\n",
      "\n",
      "avg / total       0.84      0.82      0.80     12000\n",
      "\n"
     ]
    }
   ],
   "source": [
    "print(classification_report( Y_test_data,prediction6))"
   ]
  },
  {
   "cell_type": "code",
   "execution_count": 117,
   "metadata": {},
   "outputs": [
    {
     "data": {
      "image/png": "[encoded data removed]",
      "text/plain": [
       "<Figure size 432x288 with 2 Axes>"
      ]
     },
     "metadata": {},
     "output_type": "display_data"
    }
   ],
   "source": [
    "cm = confusion_matrix(Y_test_data ,prediction6)\n",
    "label = ['negative', 'positive']\n",
    "df_conf = pd.DataFrame(cm, index = label, columns = label)\n",
    "sns.heatmap(df_conf, annot = True, fmt = \"d\")\n",
    "plt.title(\"Confusiion Matrix\")\n",
    "plt.xlabel(\"Predicted Label\")\n",
    "plt.ylabel(\"True Label\")\n",
    "plt.show()"
   ]
  },
  {
   "cell_type": "code",
   "execution_count": 118,
   "metadata": {},
   "outputs": [],
   "source": [
    "models_performence1['Model'].append('Logistic Regression')\n",
    "models_performence1['Vectorizer'].append('TF-IDF')\n",
    "models_performence1['SearchCV'].append(SearchCV)\n",
    "models_performence1['Best penalty'].append(best_panalty)\n",
    "models_performence1[ 'Optimal lambda'].append(lambdax)\n",
    "models_performence1['Training error'].append(training_error*100)\n",
    "models_performence1[ 'Test error'].append(Testing_error*100)\n",
    "models_performence1[ 'Accuracy'].append(Testing_score)\n",
    "models_performence1[ 'F1'].append(F1_score)\n",
    "models_performence1['recall'].append(recall)\n",
    "models_performence1[ 'precision'].append(precision)\n"
   ]
  },
  {
   "cell_type": "code",
   "execution_count": 119,
   "metadata": {
    "scrolled": false
   },
   "outputs": [],
   "source": [
    "columns = [\"Model\",\"Vectorizer\",\"SearchCV\", \"Best penalty\",\"Optimal lambda\", \"Training error\",  \"Test error\",\n",
    "            \"Accuracy\",\"F1\",\"recall\",\"precision\",\n",
    "          ]\n",
    "df8=pd.DataFrame(models_performence1, columns=columns)"
   ]
  },
  {
   "cell_type": "code",
   "execution_count": 120,
   "metadata": {},
   "outputs": [
    {
     "name": "stdout",
     "output_type": "stream",
     "text": [
      "|       Model       |Vectorizer|   SearchCV   |Best penalty|Optimal lambda|Training error|Test error|Accuracy| F1  |recall|precision|\n",
      "|-------------------|----------|--------------|------------|-------------:|-------------:|---------:|-------:|----:|-----:|--------:|\n",
      "|Logistic Regression|BoW       |GridSearchCV  |l2          |        1.0000|        0.0000|     19.84|  0.8016|76.97| 76.52|    77.52|\n",
      "|Logistic Regression|BOW       |RandomsearchCV|l2          |        0.0042|        0.4469|     15.40|  0.8460|81.63| 80.40|    83.53|\n",
      "|Logistic Regression|BOW       |GridSearchCV  |l1          |        1.0000|        0.0251|     17.92|  0.8207|79.29| 78.92|    79.71|\n",
      "|Logistic Regression|BOW       |RandomsearchCV|l1          |        0.0005|        0.8235|     14.95|  0.8505|81.71| 79.89|    85.13|\n",
      "|Logistic Regression|TF-IDF    |RandomsearchCV|l2          |        0.0004|        0.8435|     15.09|  0.8491|81.44| 79.54|    85.17|\n",
      "|Logistic Regression|TF-IDF    |GridSearchCV  |l2          |        1.0000|        0.0000|     18.05|  0.8195|75.92| 73.43|    85.57|\n",
      "\n"
     ]
    }
   ],
   "source": [
    "result_display(df8)"
   ]
  },
  {
   "cell_type": "markdown",
   "metadata": {},
   "source": [
    "|       Model       |Vectorizer|   SearchCV   |Best penalty|Optimal lambda|Training error|Test error|Accuracy| F1  |recall|precision|\n",
    "|-------------------|----------|--------------|------------|-------------:|-------------:|---------:|-------:|----:|-----:|--------:|\n",
    "|Logistic Regression|BoW       |GridSearchCV  |l2          |        1.0000|        0.0000|     19.84|  0.8016|76.97| 76.52|    77.52|\n",
    "|Logistic Regression|BOW       |RandomsearchCV|l2          |        0.0042|        0.4469|     15.40|  0.8460|81.63| 80.40|    83.53|\n",
    "|Logistic Regression|BOW       |GridSearchCV  |l1          |        1.0000|        0.0251|     17.92|  0.8207|79.29| 78.92|    79.71|\n",
    "|Logistic Regression|BOW       |RandomsearchCV|l1          |        0.0005|        0.8235|     14.95|  0.8505|81.71| 79.89|    85.13|\n",
    "|Logistic Regression|TF-IDF    |RandomsearchCV|l2          |        0.0004|        0.8435|     15.09|  0.8491|81.44| 79.54|    85.17|\n",
    "|Logistic Regression|TF-IDF    |GridSearchCV  |l2          |        1.0000|        0.0000|     18.05|  0.8195|75.92| 73.43|    85.57|"
   ]
  },
  {
   "cell_type": "markdown",
   "metadata": {},
   "source": [
    "## RandomsearchCV with L1 regularization (Tf-IDf)"
   ]
  },
  {
   "cell_type": "code",
   "execution_count": 121,
   "metadata": {},
   "outputs": [
    {
     "name": "stdout",
     "output_type": "stream",
     "text": [
      "Model                Logistic Regression\n",
      "Vectorizer                        TF-IDF\n",
      "SearchCV                  RandomsearchCV\n",
      "Scoring Metrics                   recall\n",
      "Train_model_score                      1\n",
      "Test_model_score                0.947687\n",
      "best panalty                          l1\n",
      "Best lambda                      2.92194\n",
      "Name: 5, dtype: object\n"
     ]
    }
   ],
   "source": [
    "zx=df2[df2['best panalty'] == 'l1']\n",
    "zx=zx[zx['SearchCV']=='RandomsearchCV']\n",
    "zx= zx.ix[zx['Test_model_score'].idxmax()]\n",
    "print(zx)\n",
    "lambdax=zx['Best lambda']\n",
    "\n",
    "best_panalty=zx['best panalty']\n",
    "\n",
    "Scoring_Metrics =zx['Scoring Metrics']\n",
    "SearchCV=zx['SearchCV']"
   ]
  },
  {
   "cell_type": "code",
   "execution_count": 122,
   "metadata": {},
   "outputs": [],
   "source": [
    "#Best lambda and best penalty\n",
    "C1 = uniform(loc=0, scale=lambdax)\n",
    "hp7=dict(C=C1, penalty=[best_panalty])\n",
    "LR7 =RandomizedSearchCV(LogisticRegression(), hp7, scoring =Scoring_Metrics, cv=tscv)\n",
    "\n",
    "LR7.fit(final_tfidf_np ,Train_data)\n",
    "\n",
    "prediction7 = LR7.predict(final_tfidf_np_test)\n",
    "lambda_new=LR7.best_params_['C']"
   ]
  },
  {
   "cell_type": "code",
   "execution_count": 123,
   "metadata": {},
   "outputs": [
    {
     "name": "stdout",
     "output_type": "stream",
     "text": [
      "training accuracy= 1.0\n",
      "training error is = 0.0\n"
     ]
    }
   ],
   "source": [
    "#Training accuracy and training error\n",
    "training_score=LR7.score(final_tfidf_np,Train_data)\n",
    "print('training accuracy=',training_score)\n",
    "training_error=1-training_score\n",
    "print('training error is =',training_error)"
   ]
  },
  {
   "cell_type": "code",
   "execution_count": 124,
   "metadata": {},
   "outputs": [
    {
     "name": "stdout",
     "output_type": "stream",
     "text": [
      "Accuracy for Logistic Regression model with Avg word2vec is =  0.864\n",
      "Testing error for Logistic Regression model with Avg word2vec is =  0.136\n"
     ]
    }
   ],
   "source": [
    "# Testing Accuracy and testing error for knn model\n",
    "\n",
    "Testing_score=round(accuracy_score(Y_test_data ,prediction7),5)\n",
    "print(\"Accuracy for Logistic Regression model with Avg word2vec is = \",Testing_score)\n",
    "Testing_error=1-Testing_score\n",
    "print(\"Testing error for Logistic Regression model with Avg word2vec is = \",Testing_error)"
   ]
  },
  {
   "cell_type": "code",
   "execution_count": 125,
   "metadata": {},
   "outputs": [],
   "source": [
    "F1_score = round(f1_score(Y_test_data ,prediction7,average='macro'),5)*100\n",
    "recall = round(recall_score(Y_test_data,prediction7,average='macro'),5)*100\n",
    "precision = round(precision_score(Y_test_data ,prediction7,average='macro'),5)*100"
   ]
  },
  {
   "cell_type": "code",
   "execution_count": 126,
   "metadata": {},
   "outputs": [
    {
     "name": "stdout",
     "output_type": "stream",
     "text": [
      "             precision    recall  f1-score   support\n",
      "\n",
      "          0       0.86      0.69      0.77      3895\n",
      "          1       0.86      0.95      0.90      8105\n",
      "\n",
      "avg / total       0.86      0.86      0.86     12000\n",
      "\n"
     ]
    }
   ],
   "source": [
    "print(classification_report( Y_test_data,prediction7))"
   ]
  },
  {
   "cell_type": "code",
   "execution_count": 127,
   "metadata": {},
   "outputs": [
    {
     "data": {
      "image/png": "[encoded data removed]",
      "text/plain": [
       "<Figure size 432x288 with 2 Axes>"
      ]
     },
     "metadata": {},
     "output_type": "display_data"
    }
   ],
   "source": [
    "cm = confusion_matrix(Y_test_data ,prediction7)\n",
    "label = ['negative', 'positive']\n",
    "df_conf = pd.DataFrame(cm, index = label, columns = label)\n",
    "sns.heatmap(df_conf, annot = True, fmt = \"d\")\n",
    "plt.title(\"Confusiion Matrix\")\n",
    "plt.xlabel(\"Predicted Label\")\n",
    "plt.ylabel(\"True Label\")\n",
    "plt.show()"
   ]
  },
  {
   "cell_type": "code",
   "execution_count": 128,
   "metadata": {},
   "outputs": [],
   "source": [
    "models_performence1['Model'].append('Logistic Regression')\n",
    "models_performence1['Vectorizer'].append('TF-IDF')\n",
    "models_performence1['SearchCV'].append(SearchCV)\n",
    "models_performence1['Best penalty'].append(best_panalty)\n",
    "models_performence1[ 'Optimal lambda'].append(lambda_new)\n",
    "models_performence1['Training error'].append(training_error*100)\n",
    "models_performence1[ 'Test error'].append(Testing_error*100)\n",
    "models_performence1[ 'Accuracy'].append(Testing_score)\n",
    "models_performence1[ 'F1'].append(F1_score)\n",
    "models_performence1['recall'].append(recall)\n",
    "models_performence1[ 'precision'].append(precision)\n"
   ]
  },
  {
   "cell_type": "code",
   "execution_count": 129,
   "metadata": {
    "scrolled": false
   },
   "outputs": [],
   "source": [
    "columns = [\"Model\",\"Vectorizer\",\"SearchCV\", \"Best penalty\",\"Optimal lambda\", \"Training error\",  \"Test error\",\n",
    "            \"Accuracy\",\"F1\",\"recall\",\"precision\",\n",
    "          ]\n",
    "df9=pd.DataFrame(models_performence1, columns=columns)"
   ]
  },
  {
   "cell_type": "code",
   "execution_count": 130,
   "metadata": {},
   "outputs": [
    {
     "name": "stdout",
     "output_type": "stream",
     "text": [
      "|       Model       |Vectorizer|   SearchCV   |Best penalty|Optimal lambda|Training error|Test error|Accuracy| F1  |recall|precision|\n",
      "|-------------------|----------|--------------|------------|-------------:|-------------:|---------:|-------:|----:|-----:|--------:|\n",
      "|Logistic Regression|BoW       |GridSearchCV  |l2          |        1.0000|        0.0000|     19.84|  0.8016|76.97| 76.52|    77.52|\n",
      "|Logistic Regression|BOW       |RandomsearchCV|l2          |        0.0042|        0.4469|     15.40|  0.8460|81.63| 80.40|    83.53|\n",
      "|Logistic Regression|BOW       |GridSearchCV  |l1          |        1.0000|        0.0251|     17.92|  0.8207|79.29| 78.92|    79.71|\n",
      "|Logistic Regression|BOW       |RandomsearchCV|l1          |        0.0005|        0.8235|     14.95|  0.8505|81.71| 79.89|    85.13|\n",
      "|Logistic Regression|TF-IDF    |RandomsearchCV|l2          |        0.0004|        0.8435|     15.09|  0.8491|81.44| 79.54|    85.17|\n",
      "|Logistic Regression|TF-IDF    |GridSearchCV  |l2          |        1.0000|        0.0000|     18.05|  0.8195|75.92| 73.43|    85.57|\n",
      "|Logistic Regression|TF-IDF    |RandomsearchCV|l1          |        2.8581|        0.0000|     13.60|  0.8640|83.58| 81.94|    86.32|\n",
      "\n"
     ]
    }
   ],
   "source": [
    "result_display(df9)"
   ]
  },
  {
   "cell_type": "markdown",
   "metadata": {},
   "source": [
    "|       Model       |Vectorizer|   SearchCV   |Best penalty|Optimal lambda|Training error|Test error|Accuracy| F1  |recall|precision|\n",
    "|-------------------|----------|--------------|------------|-------------:|-------------:|---------:|-------:|----:|-----:|--------:|\n",
    "|Logistic Regression|BoW       |GridSearchCV  |l2          |        1.0000|        0.0000|     19.84|  0.8016|76.97| 76.52|    77.52|\n",
    "|Logistic Regression|BOW       |RandomsearchCV|l2          |        0.0042|        0.4469|     15.40|  0.8460|81.63| 80.40|    83.53|\n",
    "|Logistic Regression|BOW       |GridSearchCV  |l1          |        1.0000|        0.0251|     17.92|  0.8207|79.29| 78.92|    79.71|\n",
    "|Logistic Regression|BOW       |RandomsearchCV|l1          |        0.0005|        0.8235|     14.95|  0.8505|81.71| 79.89|    85.13|\n",
    "|Logistic Regression|TF-IDF    |RandomsearchCV|l2          |        0.0004|        0.8435|     15.09|  0.8491|81.44| 79.54|    85.17|\n",
    "|Logistic Regression|TF-IDF    |GridSearchCV  |l2          |        1.0000|        0.0000|     18.05|  0.8195|75.92| 73.43|    85.57|\n",
    "|Logistic Regression|TF-IDF    |RandomsearchCV|l1          |        2.8581|        0.0000|     13.60|  0.8640|83.58| 81.94|    86.32|"
   ]
  },
  {
   "cell_type": "markdown",
   "metadata": {},
   "source": [
    "## GridSearchCV with L1 regularization (Tf-IDf)"
   ]
  },
  {
   "cell_type": "code",
   "execution_count": 131,
   "metadata": {},
   "outputs": [
    {
     "name": "stdout",
     "output_type": "stream",
     "text": [
      "Model                Logistic Regression\n",
      "Vectorizer                        TF-IDF\n",
      "SearchCV                    GridSearchCV\n",
      "Scoring Metrics                   recall\n",
      "Train_model_score                      1\n",
      "Test_model_score                0.966194\n",
      "best panalty                          l1\n",
      "Best lambda                      59.9484\n",
      "Name: 4, dtype: object\n"
     ]
    }
   ],
   "source": [
    "zx=df2[df2['best panalty'] == 'l1']\n",
    "zx=zx[zx['SearchCV']=='GridSearchCV']\n",
    "zx= zx.ix[zx['Test_model_score'].idxmax()]\n",
    "print(zx)\n",
    "lambdax=zx['Best lambda']\n",
    "\n",
    "best_panalty=zx['best panalty']\n",
    "\n",
    "Scoring_Metrics =zx['Scoring Metrics']\n",
    "SearchCV=zx['SearchCV']"
   ]
  },
  {
   "cell_type": "code",
   "execution_count": 132,
   "metadata": {},
   "outputs": [],
   "source": [
    "#Best lambda and best penalty\n",
    "\n",
    "hp8=dict(C=[lambdax], penalty=[best_panalty])\n",
    "LR8 =GridSearchCV(LogisticRegression(), hp8, scoring =Scoring_Metrics, cv=tscv)\n",
    "\n",
    "LR8.fit(final_tfidf_np ,Train_data)\n",
    "\n",
    "prediction8 = LR8.predict(final_tfidf_np_test)\n"
   ]
  },
  {
   "cell_type": "code",
   "execution_count": 133,
   "metadata": {},
   "outputs": [
    {
     "name": "stdout",
     "output_type": "stream",
     "text": [
      "training accuracy= 1.0\n",
      "training error is = 0.0\n"
     ]
    }
   ],
   "source": [
    "#Training accuracy and training error\n",
    "training_score=LR8.score(final_tfidf_np,Train_data)\n",
    "print('training accuracy=',training_score)\n",
    "training_error=1-training_score\n",
    "print('training error is =',training_error)"
   ]
  },
  {
   "cell_type": "code",
   "execution_count": 134,
   "metadata": {},
   "outputs": [
    {
     "name": "stdout",
     "output_type": "stream",
     "text": [
      "Accuracy for Logistic Regression model with Avg word2vec is =  0.83867\n",
      "Testing error for Logistic Regression model with Avg word2vec is =  0.16132999999999997\n"
     ]
    }
   ],
   "source": [
    "# Testing Accuracy and testing error for knn model\n",
    "\n",
    "Testing_score=round(accuracy_score(Y_test_data ,prediction8),5)\n",
    "print(\"Accuracy for Logistic Regression model with Avg word2vec is = \",Testing_score)\n",
    "Testing_error=1-Testing_score\n",
    "print(\"Testing error for Logistic Regression model with Avg word2vec is = \",Testing_error)"
   ]
  },
  {
   "cell_type": "code",
   "execution_count": 135,
   "metadata": {},
   "outputs": [],
   "source": [
    "F1_score = round(f1_score(Y_test_data ,prediction8,average='macro'),5)*100\n",
    "recall = round(recall_score(Y_test_data,prediction8,average='macro'),5)*100\n",
    "precision = round(precision_score(Y_test_data ,prediction8,average='macro'),5)*100"
   ]
  },
  {
   "cell_type": "code",
   "execution_count": 136,
   "metadata": {},
   "outputs": [
    {
     "name": "stdout",
     "output_type": "stream",
     "text": [
      "             precision    recall  f1-score   support\n",
      "\n",
      "          0       0.89      0.58      0.70      3895\n",
      "          1       0.83      0.97      0.89      8105\n",
      "\n",
      "avg / total       0.85      0.84      0.83     12000\n",
      "\n"
     ]
    }
   ],
   "source": [
    "print(classification_report( Y_test_data,prediction8))"
   ]
  },
  {
   "cell_type": "code",
   "execution_count": 137,
   "metadata": {},
   "outputs": [
    {
     "data": {
      "image/png": "[encoded data removed]",
      "text/plain": [
       "<Figure size 432x288 with 2 Axes>"
      ]
     },
     "metadata": {},
     "output_type": "display_data"
    }
   ],
   "source": [
    "cm = confusion_matrix(Y_test_data ,prediction8)\n",
    "label = ['negative', 'positive']\n",
    "df_conf = pd.DataFrame(cm, index = label, columns = label)\n",
    "sns.heatmap(df_conf, annot = True, fmt = \"d\")\n",
    "plt.title(\"Confusiion Matrix\")\n",
    "plt.xlabel(\"Predicted Label\")\n",
    "plt.ylabel(\"True Label\")\n",
    "plt.show()"
   ]
  },
  {
   "cell_type": "code",
   "execution_count": 138,
   "metadata": {},
   "outputs": [],
   "source": [
    "models_performence1['Model'].append('Logistic Regression')\n",
    "models_performence1['Vectorizer'].append('TF-IDF')\n",
    "models_performence1['SearchCV'].append(SearchCV)\n",
    "models_performence1['Best penalty'].append(best_panalty)\n",
    "models_performence1[ 'Optimal lambda'].append(lambdax)\n",
    "models_performence1['Training error'].append(training_error*100)\n",
    "models_performence1[ 'Test error'].append(Testing_error*100)\n",
    "models_performence1[ 'Accuracy'].append(Testing_score)\n",
    "models_performence1[ 'F1'].append(F1_score)\n",
    "models_performence1['recall'].append(recall)\n",
    "models_performence1[ 'precision'].append(precision)\n"
   ]
  },
  {
   "cell_type": "code",
   "execution_count": 139,
   "metadata": {
    "scrolled": false
   },
   "outputs": [],
   "source": [
    "columns = [\"Model\",\"Vectorizer\",\"SearchCV\", \"Best penalty\",\"Optimal lambda\", \"Training error\",  \"Test error\",\n",
    "            \"Accuracy\",\"F1\",\"recall\",\"precision\",\n",
    "          ]\n",
    "df10=pd.DataFrame(models_performence1, columns=columns)"
   ]
  },
  {
   "cell_type": "code",
   "execution_count": 140,
   "metadata": {},
   "outputs": [
    {
     "name": "stdout",
     "output_type": "stream",
     "text": [
      "|       Model       |Vectorizer|   SearchCV   |Best penalty|Optimal lambda|Training error|Test error|Accuracy| F1  |recall|precision|\n",
      "|-------------------|----------|--------------|------------|-------------:|-------------:|---------:|-------:|----:|-----:|--------:|\n",
      "|Logistic Regression|BoW       |GridSearchCV  |l2          |        1.0000|        0.0000|     19.84|  0.8016|76.97| 76.52|    77.52|\n",
      "|Logistic Regression|BOW       |RandomsearchCV|l2          |        0.0042|        0.4469|     15.40|  0.8460|81.63| 80.40|    83.53|\n",
      "|Logistic Regression|BOW       |GridSearchCV  |l1          |        1.0000|        0.0251|     17.92|  0.8207|79.29| 78.92|    79.71|\n",
      "|Logistic Regression|BOW       |RandomsearchCV|l1          |        0.0005|        0.8235|     14.95|  0.8505|81.71| 79.89|    85.13|\n",
      "|Logistic Regression|TF-IDF    |RandomsearchCV|l2          |        0.0004|        0.8435|     15.09|  0.8491|81.44| 79.54|    85.17|\n",
      "|Logistic Regression|TF-IDF    |GridSearchCV  |l2          |        1.0000|        0.0000|     18.05|  0.8195|75.92| 73.43|    85.57|\n",
      "|Logistic Regression|TF-IDF    |RandomsearchCV|l1          |        2.8581|        0.0000|     13.60|  0.8640|83.58| 81.94|    86.32|\n",
      "|Logistic Regression|TF-IDF    |GridSearchCV  |l1          |       59.9484|        0.0000|     16.13|  0.8387|79.42| 77.03|    85.67|\n",
      "\n"
     ]
    }
   ],
   "source": [
    "result_display(df10)"
   ]
  },
  {
   "cell_type": "markdown",
   "metadata": {},
   "source": [
    "|       Model       |Vectorizer|   SearchCV   |Best penalty|Optimal lambda|Training error|Test error|Accuracy| F1  |recall|precision|\n",
    "|-------------------|----------|--------------|------------|-------------|-------------|---------|-------|----|-----|--------|\n",
    "|Logistic Regression|BoW       |GridSearchCV  |l2          |        1.0000|        0.0000|     19.84|  0.8016|76.97| 76.52|    77.52|\n",
    "|Logistic Regression|BOW       |RandomsearchCV|l2          |        0.0042|        0.4469|     15.40|  0.8460|81.63| 80.40|    83.53|\n",
    "|Logistic Regression|BOW       |GridSearchCV  |l1          |        1.0000|        0.0251|     17.92|  0.8207|79.29| 78.92|    79.71|\n",
    "|Logistic Regression|BOW       |RandomsearchCV|l1          |        0.0005|        0.8235|     14.95|  0.8505|81.71| 79.89|    85.13|\n",
    "|Logistic Regression|TF-IDF    |RandomsearchCV|l2          |        0.0004|        0.8435|     15.09|  0.8491|81.44| 79.54|    85.17|\n",
    "|Logistic Regression|TF-IDF    |GridSearchCV  |l2          |        1.0000|        0.0000|     18.05|  0.8195|75.92| 73.43|    85.57|\n",
    "|Logistic Regression|TF-IDF    |RandomsearchCV|l1          |        2.8581|        0.0000|     13.60|  0.8640|83.58| 81.94|    86.32|\n",
    "|Logistic Regression|TF-IDF    |GridSearchCV  |l1          |       59.9484|        0.0000|     16.13|  0.8387|79.42| 77.03|    85.67|"
   ]
  },
  {
   "cell_type": "markdown",
   "metadata": {},
   "source": [
    "## Feature Importance for Logistic Regression"
   ]
  },
  {
   "cell_type": "markdown",
   "metadata": {},
   "source": [
    "#### Feature importance using count_vect"
   ]
  },
  {
   "cell_type": "code",
   "execution_count": 141,
   "metadata": {},
   "outputs": [
    {
     "name": "stdout",
     "output_type": "stream",
     "text": [
      "[-6.98856785e-02  3.20812169e-02  6.86907874e-02 ... -1.16301296e-05\n",
      " -1.97800637e-05 -3.77890206e-04]\n"
     ]
    }
   ],
   "source": [
    "model = LogisticRegression( random_state=0, class_weight='balanced')\n",
    "model.fit(final_data ,Train_data)\n",
    "# Calculate feature importances\n",
    "count_vect_feature=count_vect.get_feature_names()\n",
    "feature_importance = model.coef_[0]\n",
    "print(feature_importance)"
   ]
  },
  {
   "cell_type": "code",
   "execution_count": 142,
   "metadata": {},
   "outputs": [
    {
     "name": "stdout",
     "output_type": "stream",
     "text": [
      "Negative_Feature_Importanc [ 1.27846516e-03 -8.72952486e-06 -2.72293848e-02 -5.07093351e-02\n",
      "  2.14312914e-03  3.31203513e-02  5.10959783e-02  1.26563767e-01\n",
      "  5.70493934e-02  4.62499125e-04 -2.63228160e-02  4.98604711e-03\n",
      " -1.16301296e-05 -1.97800637e-05 -3.77890206e-04]\n",
      "Positive_Feature_Importance [-6.98856785e-02  3.20812169e-02  6.86907874e-02 -1.33611151e-06\n",
      " -2.24748457e-05 -2.31786264e-05  1.33332202e-01 -2.16687646e-01\n",
      " -1.58712686e-06 -1.97722162e-01  1.17074106e-03  4.31862077e-03\n",
      "  2.52835784e-02  8.86442954e-03 -1.02991746e-02]\n"
     ]
    }
   ],
   "source": [
    "Negative_Feature_Importance= feature_importance[-15:]\n",
    "print('Negative_Feature_Importanc',Negative_Feature_Importance)\n",
    "Positive_Feature_Importance= feature_importance[:15]\n",
    "print('Positive_Feature_Importance',Positive_Feature_Importance)"
   ]
  },
  {
   "cell_type": "code",
   "execution_count": 143,
   "metadata": {},
   "outputs": [
    {
     "name": "stdout",
     "output_type": "stream",
     "text": [
      "Top 15 negative class feature to               -0.666154\n",
      "waste            -0.674955\n",
      "doesn            -0.678214\n",
      "worse            -0.688182\n",
      "information      -0.689716\n",
      "way              -0.711875\n",
      "threw            -0.730362\n",
      "terrible         -0.756894\n",
      "under            -0.756945\n",
      "stale            -0.787371\n",
      "disappointment   -0.807016\n",
      "was              -0.856012\n",
      "awful            -0.865418\n",
      "worst            -1.116509\n",
      "not              -1.737925\n",
      "dtype: float64\n"
     ]
    },
    {
     "data": {
      "text/plain": [
       "Text(0,0.5,'Relative Feature Importance for Negative class ')"
      ]
     },
     "execution_count": 143,
     "metadata": {},
     "output_type": "execute_result"
    },
    {
     "data": {
      "image/png": "[encoded data removed]",
      "text/plain": [
       "<Figure size 432x288 with 1 Axes>"
      ]
     },
     "metadata": {},
     "output_type": "display_data"
    }
   ],
   "source": [
    "# Relative Feature Importance for Negative class using BOW\n",
    "feat_imp = pd.Series(feature_importance, count_vect_feature).sort_values(ascending=False)\n",
    "print(\"Top 15 negative class feature\",feat_imp[-15:])\n",
    "\n",
    "feat_imp[-15:].plot(kind='bar', title='Feature Importances')\n",
    "plt.ylabel('Relative Feature Importance for Negative class ')\n"
   ]
  },
  {
   "cell_type": "code",
   "execution_count": 144,
   "metadata": {},
   "outputs": [
    {
     "name": "stdout",
     "output_type": "stream",
     "text": [
      "Top 15 postive class feature great        2.131231\n",
      "good         1.479342\n",
      "best         1.275140\n",
      "perfect      1.129655\n",
      "love         1.021882\n",
      "and          1.005843\n",
      "tasty        0.919905\n",
      "excellent    0.914646\n",
      "favorite     0.848755\n",
      "delicious    0.804589\n",
      "awesome      0.729551\n",
      "moist        0.715587\n",
      "friend       0.698840\n",
      "yummy        0.695703\n",
      "quite        0.683189\n",
      "dtype: float64\n"
     ]
    },
    {
     "data": {
      "text/plain": [
       "Text(0,0.5,'Relative Feature Importance for Postive class ')"
      ]
     },
     "execution_count": 144,
     "metadata": {},
     "output_type": "execute_result"
    },
    {
     "data": {
      "image/png": "[encoded data removed]",
      "text/plain": [
       "<Figure size 432x288 with 1 Axes>"
      ]
     },
     "metadata": {},
     "output_type": "display_data"
    }
   ],
   "source": [
    "#Feature Importances for postive class using count_vect\n",
    "\n",
    "feat_imp = pd.Series(feature_importance, count_vect_feature).sort_values(ascending=False)\n",
    "print(\"Top 15 postive class feature\",feat_imp[:15])\n",
    "\n",
    "feat_imp[:15].plot(kind='bar', title='Feature Importances')\n",
    "plt.ylabel('Relative Feature Importance for Postive class ')\n"
   ]
  },
  {
   "cell_type": "markdown",
   "metadata": {},
   "source": [
    "#### Feature importance using tf-idf -vect"
   ]
  },
  {
   "cell_type": "code",
   "execution_count": 24,
   "metadata": {},
   "outputs": [
    {
     "name": "stdout",
     "output_type": "stream",
     "text": [
      "[-0.01572257  0.00070768  0.0042909  ...  0.00199084  0.00199084\n",
      "  0.00166962]\n"
     ]
    }
   ],
   "source": [
    "model = LogisticRegression(random_state=0, class_weight='balanced')\n",
    "model.fit(final_tfidf_np ,Train_data)\n",
    "tf_idf_feature=tf_idf_vect .get_feature_names()\n",
    "feature_importance = model.coef_[0]\n",
    "print(feature_importance)"
   ]
  },
  {
   "cell_type": "code",
   "execution_count": 25,
   "metadata": {},
   "outputs": [
    {
     "name": "stdout",
     "output_type": "stream",
     "text": [
      "Negative_Feature_Importance [ 0.00035824 -0.00379201  0.00235019 -0.00700736  0.00038112  0.00038112\n",
      "  0.0004987   0.0004987  -0.00161642 -0.00161642  0.00279301  0.00279301\n",
      "  0.00199084  0.00199084  0.00166962]\n",
      "Positive_Feature_Importance [-1.57225749e-02  7.07681090e-04  4.29090014e-03 -2.18493818e-03\n",
      " -8.80539569e-03  6.26167688e-04 -2.36090761e-03  1.81293314e-03\n",
      " -6.95264014e-03 -8.43264570e-03 -5.53123811e-05 -4.95346097e-03\n",
      "  6.96913050e-05 -2.49085370e-03 -1.09552802e-03]\n"
     ]
    }
   ],
   "source": [
    "Negative_Feature_Importance= feature_importance[-15:]\n",
    "print('Negative_Feature_Importance',Negative_Feature_Importance)\n",
    "Positive_Feature_Importance= feature_importance[:15]\n",
    "print('Positive_Feature_Importance',Positive_Feature_Importance)"
   ]
  },
  {
   "cell_type": "code",
   "execution_count": 26,
   "metadata": {},
   "outputs": [
    {
     "name": "stdout",
     "output_type": "stream",
     "text": [
      "Top 15 negative class feature did not             -0.053815\n",
      "way too             -0.054299\n",
      "terrible            -0.055495\n",
      "very disappointed   -0.056223\n",
      "not buy             -0.056270\n",
      "stale               -0.056943\n",
      "awful               -0.057589\n",
      "not recommend       -0.060131\n",
      "disappointed        -0.062147\n",
      "at all              -0.065745\n",
      "the worst           -0.066788\n",
      "would not           -0.069012\n",
      "worst               -0.069726\n",
      "not worth           -0.079154\n",
      "not                 -0.087908\n",
      "dtype: float64\n"
     ]
    },
    {
     "data": {
      "text/plain": [
       "Text(0,0.5,'Relative Feature Importance for Negative class ')"
      ]
     },
     "execution_count": 26,
     "metadata": {},
     "output_type": "execute_result"
    },
    {
     "data": {
      "image/png": "[encoded data removed]",
      "text/plain": [
       "<Figure size 432x288 with 1 Axes>"
      ]
     },
     "metadata": {},
     "output_type": "display_data"
    }
   ],
   "source": [
    "# Relative Feature Importance for Negative class using tf_idf\n",
    "feat_imp = pd.Series(feature_importance,tf_idf_feature).sort_values(ascending=False)\n",
    "print(\"Top 15 negative class feature\",feat_imp[-15:])\n",
    "\n",
    "feat_imp[-15:].plot(kind='bar', title='Feature Importances')\n",
    "plt.ylabel('Relative Feature Importance for Negative class ')\n"
   ]
  },
  {
   "cell_type": "code",
   "execution_count": 27,
   "metadata": {},
   "outputs": [
    {
     "name": "stdout",
     "output_type": "stream",
     "text": [
      "Top 15 postive class feature great        0.149660\n",
      "love         0.105626\n",
      "and          0.104531\n",
      "best         0.103081\n",
      "the best     0.100451\n",
      "good         0.095941\n",
      "is           0.085983\n",
      "delicious    0.076961\n",
      "this is      0.076417\n",
      "for          0.076384\n",
      "excellent    0.075110\n",
      "is great     0.072469\n",
      "love this    0.072014\n",
      "my           0.069634\n",
      "are          0.065415\n",
      "dtype: float64\n"
     ]
    },
    {
     "data": {
      "text/plain": [
       "Text(0,0.5,'Relative Feature Importance for Postive class ')"
      ]
     },
     "execution_count": 27,
     "metadata": {},
     "output_type": "execute_result"
    },
    {
     "data": {
      "image/png": "[encoded data removed]",
      "text/plain": [
       "<Figure size 432x288 with 1 Axes>"
      ]
     },
     "metadata": {},
     "output_type": "display_data"
    }
   ],
   "source": [
    "#Feature Importances for postive class using tf_idf\n",
    "\n",
    "feat_imp = pd.Series(feature_importance, tf_idf_feature).sort_values(ascending=False)\n",
    "print(\"Top 15 postive class feature\",feat_imp[:15])\n",
    "\n",
    "feat_imp[:15].plot(kind='bar', title='Feature Importances')\n",
    "plt.ylabel('Relative Feature Importance for Postive class ')\n"
   ]
  },
  {
   "cell_type": "markdown",
   "metadata": {},
   "source": [
    "#### Observations\n",
    "* Feature Importance for logistic regression using BOW and TF-IDF is as above.\n",
    "* Top 15 features for postive words and negative words are printed.\n",
    "* Graph is based on features weight vs relative feature importance.\n",
    "* Top 15 Important Negative words which determines point belongs to negative class and Top 15 Important positive words which determines point belongs to positive class shows importance of words."
   ]
  },
  {
   "cell_type": "markdown",
   "metadata": {},
   "source": [
    "##### Use of Pertubation Techniques for postive class and negative class using tf-idf -vect"
   ]
  },
  {
   "cell_type": "code",
   "execution_count": 30,
   "metadata": {},
   "outputs": [
    {
     "name": "stdout",
     "output_type": "stream",
     "text": [
      "Weight vector with pertubation [5.000000e-01 1.500000e+00 2.500000e+00 ... 5.300905e+05 5.300915e+05\n",
      " 5.300925e+05]\n",
      "original Weight vector [-10.50551721   0.47285867   2.8670956  ...   1.33023866   1.33023866\n",
      "   1.11560945]\n",
      "Difference between w and w` [-11.00551721  -1.02714133   0.3670956   -4.95993298 -10.38359329\n",
      "  -5.08160699  -8.07751232  -6.28863351 -13.14561824 -15.13452903\n",
      " -10.53695865 -14.8098058  -12.45343363 -15.16433976 -15.23201041\n",
      " -18.72835555 -21.19996661 -19.97548654 -22.67126371 -19.61690797]\n"
     ]
    },
    {
     "data": {
      "image/png": "[encoded data removed]",
      "text/plain": [
       "<Figure size 432x288 with 1 Axes>"
      ]
     },
     "metadata": {},
     "output_type": "display_data"
    },
    {
     "data": {
      "image/png": "[encoded data removed]",
      "text/plain": [
       "<Figure size 432x288 with 1 Axes>"
      ]
     },
     "metadata": {},
     "output_type": "display_data"
    }
   ],
   "source": [
    "# Use of Pertubation Techniques for postive class and negative class using tf-idf -vect\n",
    "feature_importance = 100.0 * (feature_importance / feature_importance.max())\n",
    "# feature_importance# w\n",
    "\n",
    "pos = np.arange(feature_importance.shape[0]) + .5  # 0.5 is pertubation  w`\n",
    "# pos is after adding small noise in weight\n",
    "print('Weight vector with pertubation',pos)\n",
    "print('original Weight vector',feature_importance)\n",
    "\n",
    "\n",
    "yy = [float(i) for i in feature_importance] #w\n",
    "\n",
    "#print(yy)\n",
    "vc=yy -pos\n",
    "print('Difference between w and w`',vc[:20])\n",
    "\n",
    "Pertub_pos = pd.Series(pos[:15],feature_importance[:15]).sort_values(ascending=False)\n",
    "Pertub_pos.plot(kind='bar', title='Feature Importances with pertubation')\n",
    "plt.xlabel('Features weight  range')\n",
    "plt.ylabel('Relative Feature Importance for Positive class ')\n",
    "plt.show()\n",
    "\n",
    "Pertub_neg = pd.Series(pos[-15:],feature_importance[-15:]).sort_values(ascending=False)\n",
    "Pertub_neg.plot(kind='bar', title='Feature Importances with pertubation')\n",
    "plt.xlabel('Features weight  range')\n",
    "plt.ylabel('Relative Feature Importance for Negative Class ')\n",
    "plt.show()\n"
   ]
  },
  {
   "cell_type": "markdown",
   "metadata": {},
   "source": [
    "##### Pertubation\n",
    "* Pertubation Techniques for positive features and Negative features are used to check collinearity of features.\n",
    "* If weight vector of features can change arbitrarily ,It means weight vector can not be used as feature Importance .\n",
    "* Here,If Original weight vector and pertubated weight vector for respective features differ significantly,then we can't use weight vector (respective feature) for feature importance in particular class.\n",
    "* In Feature Importance for positive class,[ \"great\" ,\"love\",\"and\"] has high importance while [\"are\",\"love this\",\"my\"] has low importance and In pertubated Feature Importance, [\"are\" ,\"my\"] has low importance. This means that we can remove it's Importance from Positive class.\n",
    "* Here,if positive feature or negative feature (words) are pertubated,then we can check whether a particular feature is important or not.\n",
    "* All features are highly important in negative class. Also for pertubated Feature Importance ,all negative features are highly important so Feature .\n",
    "* Importance for negative class doesn't change with small change in weight vector value.Finally,it is concluded that negative Feature Importance are highly important while positive Feature Importance are not.\n"
   ]
  },
  {
   "cell_type": "markdown",
   "metadata": {},
   "source": [
    "# Conclusions"
   ]
  },
  {
   "cell_type": "markdown",
   "metadata": {},
   "source": [
    "|       Model       |Vectorizer|   SearchCV   |Best penalty|Optimal lambda|Training error|Test error|Accuracy| F1  |recall|precision|\n",
    "|-------------------|----------|--------------|------------|-------------|-------------|---------|-------|----|-----|--------|\n",
    "|Logistic Regression|BoW       |GridSearchCV  |l2          |        1.0000|        0.0000|     19.84|  0.8016|76.97| 76.52|    77.52|\n",
    "|Logistic Regression|BOW       |RandomsearchCV|l2          |        0.0042|        0.4469|     15.40|  0.8460|81.63| 80.40|    83.53|\n",
    "|Logistic Regression|BOW       |GridSearchCV  |l1          |        1.0000|        0.0251|     17.92|  0.8207|79.29| 78.92|    79.71|\n",
    "|Logistic Regression|BOW       |RandomsearchCV|l1          |        0.0005|        0.8235|     14.95|  0.8505|81.71| 79.89|    85.13|\n",
    "|Logistic Regression|TF-IDF    |RandomsearchCV|l2          |        0.0004|        0.8435|     15.09|  0.8491|81.44| 79.54|    85.17|\n",
    "|Logistic Regression|TF-IDF    |GridSearchCV  |l2          |        1.0000|        0.0000|     18.05|  0.8195|75.92| 73.43|    85.57|\n",
    "|Logistic Regression|TF-IDF    |RandomsearchCV|l1          |        2.8581|        0.0000|     13.60|  0.8640|83.58| 81.94|    86.32|\n",
    "|Logistic Regression|TF-IDF    |GridSearchCV  |l1          |       59.9484|        0.0000|     16.13|  0.8387|79.42| 77.03|    85.67|"
   ]
  },
  {
   "cell_type": "markdown",
   "metadata": {},
   "source": [
    "* Above Table shows the performance of trained and tested model with Logistic Regression.\n",
    "* Confusion matrix and scoring metrics values for TF-IDF with RandomSearch CV & L1 regularization is comparatively best with other trained model.\n",
    "* After  comparing the developed models, Logistic Regression model with TF-IDF with RandomsearchCV ,l1 regularization works the best to predict the polarity of reviews among all models. "
   ]
  },
  {
   "cell_type": "code",
   "execution_count": null,
   "metadata": {},
   "outputs": [],
   "source": []
  }
 ],
 "metadata": {
  "kernelspec": {
   "display_name": "Python 3",
   "language": "python",
   "name": "python3"
  },
  "language_info": {
   "codemirror_mode": {
    "name": "ipython",
    "version": 3
   },
   "file_extension": ".py",
   "mimetype": "text/x-python",
   "name": "python",
   "nbconvert_exporter": "python",
   "pygments_lexer": "ipython3",
   "version": "3.6.5"
  }
 },
 "nbformat": 4,
 "nbformat_minor": 2
}
